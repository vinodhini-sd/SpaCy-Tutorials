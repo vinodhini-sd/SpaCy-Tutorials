{
  "nbformat": 4,
  "nbformat_minor": 0,
  "metadata": {
    "colab": {
      "name": "SpaCY_Basics.ipynb",
      "provenance": [],
      "collapsed_sections": [
        "ak6P7jDQJmK2",
        "_6bVfj-5KfEr",
        "q0_GPDnGNs10",
        "b-V4GJjdJ1Nw",
        "fQyO5YjkL9pS",
        "7mYmlijvSdZo",
        "4o6S2N_eU382",
        "-xzDiRX2Zs7Y",
        "e1JPY204aG20",
        "Rx1ovjHvcD4I",
        "vYB2O6Z3eA-5",
        "SB40Nx_riS0o",
        "WqAm5_ddx-Bv",
        "i-eoStWU5quE"
      ]
    },
    "kernelspec": {
      "name": "python3",
      "display_name": "Python 3"
    }
  },
  "cells": [
    {
      "cell_type": "markdown",
      "metadata": {
        "id": "0qW5ai19Slq_",
        "colab_type": "text"
      },
      "source": [
        "# **Import and other Reqs**"
      ]
    },
    {
      "cell_type": "code",
      "metadata": {
        "id": "qpugzmJTKlam",
        "colab_type": "code",
        "outputId": "26af5e76-db86-48bb-891f-63f1f3150f6f",
        "colab": {
          "base_uri": "https://localhost:8080/",
          "height": 268
        }
      },
      "source": [
        "!pip install wikipedia"
      ],
      "execution_count": 0,
      "outputs": [
        {
          "output_type": "stream",
          "text": [
            "Collecting wikipedia\n",
            "  Downloading https://files.pythonhosted.org/packages/67/35/25e68fbc99e672127cc6fbb14b8ec1ba3dfef035bf1e4c90f78f24a80b7d/wikipedia-1.4.0.tar.gz\n",
            "Requirement already satisfied: beautifulsoup4 in /usr/local/lib/python3.6/dist-packages (from wikipedia) (4.6.3)\n",
            "Requirement already satisfied: requests<3.0.0,>=2.0.0 in /usr/local/lib/python3.6/dist-packages (from wikipedia) (2.21.0)\n",
            "Requirement already satisfied: idna<2.9,>=2.5 in /usr/local/lib/python3.6/dist-packages (from requests<3.0.0,>=2.0.0->wikipedia) (2.8)\n",
            "Requirement already satisfied: urllib3<1.25,>=1.21.1 in /usr/local/lib/python3.6/dist-packages (from requests<3.0.0,>=2.0.0->wikipedia) (1.24.3)\n",
            "Requirement already satisfied: certifi>=2017.4.17 in /usr/local/lib/python3.6/dist-packages (from requests<3.0.0,>=2.0.0->wikipedia) (2019.11.28)\n",
            "Requirement already satisfied: chardet<3.1.0,>=3.0.2 in /usr/local/lib/python3.6/dist-packages (from requests<3.0.0,>=2.0.0->wikipedia) (3.0.4)\n",
            "Building wheels for collected packages: wikipedia\n",
            "  Building wheel for wikipedia (setup.py) ... \u001b[?25l\u001b[?25hdone\n",
            "  Created wheel for wikipedia: filename=wikipedia-1.4.0-cp36-none-any.whl size=11686 sha256=897e31ecae48add30497661b568c8e0e1d9e0838066318d2090bfd20f2221720\n",
            "  Stored in directory: /root/.cache/pip/wheels/87/2a/18/4e471fd96d12114d16fe4a446d00c3b38fb9efcb744bd31f4a\n",
            "Successfully built wikipedia\n",
            "Installing collected packages: wikipedia\n",
            "Successfully installed wikipedia-1.4.0\n"
          ],
          "name": "stdout"
        }
      ]
    },
    {
      "cell_type": "code",
      "metadata": {
        "id": "b2HO8XOAIBfJ",
        "colab_type": "code",
        "colab": {}
      },
      "source": [
        "import spacy\n",
        "from spacy import displacy\n",
        "import wikipedia\n",
        "import pandas as pd\n",
        "import matplotlib.pyplot as plt\n",
        "import seaborn as sns\n",
        "%matplotlib inline"
      ],
      "execution_count": 0,
      "outputs": []
    },
    {
      "cell_type": "code",
      "metadata": {
        "id": "MB9bMM1OIUhX",
        "colab_type": "code",
        "colab": {}
      },
      "source": [
        "nlp = spacy.load('en') #en for english, fr for french and so on"
      ],
      "execution_count": 0,
      "outputs": []
    },
    {
      "cell_type": "code",
      "metadata": {
        "id": "1CBsTwMOzLG-",
        "colab_type": "code",
        "colab": {}
      },
      "source": [
        "from spacy.lang.en.stop_words import STOP_WORDS"
      ],
      "execution_count": 0,
      "outputs": []
    },
    {
      "cell_type": "code",
      "metadata": {
        "id": "TDfwhHUNopBe",
        "colab_type": "code",
        "colab": {}
      },
      "source": [
        "import warnings\n",
        "warnings.filterwarnings(\"ignore\")"
      ],
      "execution_count": 0,
      "outputs": []
    },
    {
      "cell_type": "code",
      "metadata": {
        "id": "o9p_f7ZVJPQt",
        "colab_type": "code",
        "outputId": "00fe1f44-0271-41df-ae04-b3ae3b614839",
        "colab": {
          "base_uri": "https://localhost:8080/",
          "height": 54
        }
      },
      "source": [
        "from google.colab import drive\n",
        "drive.mount('/gdrive')\n",
        "%cd /gdrive"
      ],
      "execution_count": 0,
      "outputs": [
        {
          "output_type": "stream",
          "text": [
            "Drive already mounted at /gdrive; to attempt to forcibly remount, call drive.mount(\"/gdrive\", force_remount=True).\n",
            "/gdrive\n"
          ],
          "name": "stdout"
        }
      ]
    },
    {
      "cell_type": "code",
      "metadata": {
        "id": "Y-REEROEeG3b",
        "colab_type": "code",
        "colab": {}
      },
      "source": [
        "\"\"\"\n",
        "!ls   #similar to linux ls command\n",
        "%cd ..   #similar to linux directory navigation\n",
        "%cd 'My Drive/CIS_508/Colab Notebooks/NER' \n",
        "\"\"\""
      ],
      "execution_count": 0,
      "outputs": []
    },
    {
      "cell_type": "markdown",
      "metadata": {
        "id": "ak6P7jDQJmK2",
        "colab_type": "text"
      },
      "source": [
        "# **Read text document**"
      ]
    },
    {
      "cell_type": "code",
      "metadata": {
        "id": "bKi8A9mPIbjI",
        "colab_type": "code",
        "outputId": "a65464ca-7701-4eae-83e3-10c74de31b8b",
        "colab": {
          "base_uri": "https://localhost:8080/"
        }
      },
      "source": [
        "doc = nlp(\"SpaCY is a cool tool\")\n",
        "doc"
      ],
      "execution_count": 0,
      "outputs": [
        {
          "output_type": "execute_result",
          "data": {
            "text/plain": [
              "SpaCY is a cool tool"
            ]
          },
          "metadata": {
            "tags": []
          },
          "execution_count": 56
        }
      ]
    },
    {
      "cell_type": "markdown",
      "metadata": {
        "id": "ezcrnqCxJq7f",
        "colab_type": "text"
      },
      "source": [
        "# **Read from a file**"
      ]
    },
    {
      "cell_type": "code",
      "metadata": {
        "id": "pLQBfUsGIh86",
        "colab_type": "code",
        "outputId": "fe0885f5-3662-4e9e-e5ff-07ce3547b34e",
        "colab": {
          "base_uri": "https://localhost:8080/",
          "height": 90
        }
      },
      "source": [
        "myfile = open('/gdrive/My Drive/CIS_508/Colab Notebooks/NER/trial.txt').read()\n",
        "docfile = nlp(myfile)\n",
        "docfile"
      ],
      "execution_count": 0,
      "outputs": [
        {
          "output_type": "execute_result",
          "data": {
            "text/plain": [
              "Hey there! what's up with you?\n",
              "I am good. How are you?\n",
              "I went on a trip to London for the break. Enjoyed my time there.\n",
              "I visited my cousins in London too. Such a small world"
            ]
          },
          "metadata": {
            "tags": []
          },
          "execution_count": 340
        }
      ]
    },
    {
      "cell_type": "markdown",
      "metadata": {
        "id": "_6bVfj-5KfEr",
        "colab_type": "text"
      },
      "source": [
        "# **Read from wikipedia**"
      ]
    },
    {
      "cell_type": "code",
      "metadata": {
        "id": "Ye_GInrDKeuS",
        "colab_type": "code",
        "colab": {}
      },
      "source": [
        "page = wikipedia.page(\"Vinodhini\")\n",
        "page_url = page.url\n",
        "page_title = page.title\n",
        "content = page.content\n",
        "\n",
        "wikitext = nlp(content)"
      ],
      "execution_count": 0,
      "outputs": []
    },
    {
      "cell_type": "markdown",
      "metadata": {
        "id": "q0_GPDnGNs10",
        "colab_type": "text"
      },
      "source": [
        "# **Explore the basic functions**"
      ]
    },
    {
      "cell_type": "code",
      "metadata": {
        "id": "2NY56KxiNtAj",
        "colab_type": "code",
        "outputId": "479b9768-e844-4cb0-c176-ef6a6023f2f0",
        "colab": {
          "base_uri": "https://localhost:8080/"
        }
      },
      "source": [
        "print(docx)\n",
        "print(\"\\n\",docfile)"
      ],
      "execution_count": 0,
      "outputs": [
        {
          "output_type": "stream",
          "text": [
            "SpaCY is a cool tool\n",
            "\n",
            " Hey there! what's up with you?\n",
            "I am good. How are you?\n",
            "I went on a trip to London for the break. Enjoyed my time there.\n",
            "I visited my cousins in London too. Such a small world\n"
          ],
          "name": "stdout"
        }
      ]
    },
    {
      "cell_type": "code",
      "metadata": {
        "id": "3tqJpMiyN0z-",
        "colab_type": "code",
        "outputId": "cd046fea-09e8-499c-c5de-8a276bfd5547",
        "colab": {
          "base_uri": "https://localhost:8080/"
        }
      },
      "source": [
        "print(docx.text)\n",
        "print(docfile.text)"
      ],
      "execution_count": 0,
      "outputs": [
        {
          "output_type": "stream",
          "text": [
            "SpaCY is a cool tool\n",
            "Hey there! what's up with you?\n",
            "I am good. How are you?\n",
            "I went on a trip to London for the break. Enjoyed my time there.\n",
            "I visited my cousins in London too. Such a small world\n"
          ],
          "name": "stdout"
        }
      ]
    },
    {
      "cell_type": "markdown",
      "metadata": {
        "id": "b-V4GJjdJ1Nw",
        "colab_type": "text"
      },
      "source": [
        "# **Tokenization - Sentence Tokens**"
      ]
    },
    {
      "cell_type": "code",
      "metadata": {
        "id": "OpDuCDY7J0vX",
        "colab_type": "code",
        "outputId": "bf237dd5-5c58-428d-d2fc-d8976ac99feb",
        "colab": {
          "base_uri": "https://localhost:8080/"
        }
      },
      "source": [
        "num = 1\n",
        "for sentence in docfile.sents:\n",
        "  print(str(num), \": \", sentence)\n",
        "  num += 1"
      ],
      "execution_count": 0,
      "outputs": [
        {
          "output_type": "stream",
          "text": [
            "1 :  Hey there! what's up with you?\n",
            "\n",
            "2 :  I am good.\n",
            "3 :  How are you?\n",
            "\n",
            "4 :  I went on a trip to London for the break.\n",
            "5 :  Enjoyed my time there.\n",
            "\n",
            "6 :  I visited my cousins in London too.\n",
            "7 :  Such a small world\n"
          ],
          "name": "stdout"
        }
      ]
    },
    {
      "cell_type": "code",
      "metadata": {
        "id": "FOMQqEdQJjwI",
        "colab_type": "code",
        "outputId": "c97b67a9-2521-431d-f25f-9c5e0d80137e",
        "colab": {
          "base_uri": "https://localhost:8080/"
        }
      },
      "source": [
        "for num, sentence in enumerate(docfile.sents):  #enum starts from 0\n",
        "  print(f'{num}: {sentence}')"
      ],
      "execution_count": 0,
      "outputs": [
        {
          "output_type": "stream",
          "text": [
            "0: Hey there! what's up with you?\n",
            "\n",
            "1: I am good.\n",
            "2: How are you?\n",
            "\n",
            "3: I went on a trip to London for the break.\n",
            "4: Enjoyed my time there.\n",
            "\n",
            "5: I visited my cousins in London too.\n",
            "6: Such a small world\n"
          ],
          "name": "stdout"
        }
      ]
    },
    {
      "cell_type": "markdown",
      "metadata": {
        "id": "fQyO5YjkL9pS",
        "colab_type": "text"
      },
      "source": [
        "# **Tokenization - Word Tokens**"
      ]
    },
    {
      "cell_type": "code",
      "metadata": {
        "id": "fCBw9BvwL4fU",
        "colab_type": "code",
        "outputId": "cbe5fb06-d1ca-4735-c1e5-3b91a27902fa",
        "colab": {
          "base_uri": "https://localhost:8080/"
        }
      },
      "source": [
        "for word in docx:\n",
        "  print(word.text) #word.text and word are the same here \n",
        "\n",
        "#get a list of word tokens\n",
        "words = [word for word in docx]\n",
        "words"
      ],
      "execution_count": 0,
      "outputs": [
        {
          "output_type": "stream",
          "text": [
            "SpaCY\n",
            "is\n",
            "a\n",
            "cool\n",
            "tool\n"
          ],
          "name": "stdout"
        },
        {
          "output_type": "execute_result",
          "data": {
            "text/plain": [
              "[SpaCY, is, a, cool, tool]"
            ]
          },
          "metadata": {
            "tags": []
          },
          "execution_count": 91
        }
      ]
    },
    {
      "cell_type": "code",
      "metadata": {
        "id": "bPVHgjxZMIll",
        "colab_type": "code",
        "colab": {}
      },
      "source": [
        "for word in docfile:\n",
        "  print(word)\n",
        "\n",
        "words = [word.text for word in docfile]\n",
        "words"
      ],
      "execution_count": 0,
      "outputs": []
    },
    {
      "cell_type": "code",
      "metadata": {
        "id": "p-6C66-LMIrl",
        "colab_type": "code",
        "colab": {}
      },
      "source": [
        "#split using spaces are not exactly same because word tokenizer takes care of the punctuation and other nuances. But the basic idea is that \n",
        "docfile.text.split(\" \")"
      ],
      "execution_count": 0,
      "outputs": []
    },
    {
      "cell_type": "markdown",
      "metadata": {
        "id": "7mYmlijvSdZo",
        "colab_type": "text"
      },
      "source": [
        "# **Other word functions**"
      ]
    },
    {
      "cell_type": "code",
      "metadata": {
        "id": "WZlMj4GlMIwx",
        "colab_type": "code",
        "colab": {}
      },
      "source": [
        "for word in docfile:\n",
        "  print(word.text, word.shape_)"
      ],
      "execution_count": 0,
      "outputs": []
    },
    {
      "cell_type": "code",
      "metadata": {
        "id": "W-IUxKXoMIuZ",
        "colab_type": "code",
        "outputId": "6769f8b2-b12c-4a51-d459-414cd2b23cc4",
        "colab": {
          "base_uri": "https://localhost:8080/"
        }
      },
      "source": [
        "for word in docx:\n",
        "  print(word.text, word.shape_, word.is_alpha, word.is_stop) #word.shape is not human readable format"
      ],
      "execution_count": 0,
      "outputs": [
        {
          "output_type": "stream",
          "text": [
            "SpaCY XxxXX True False\n",
            "is xx True True\n",
            "a x True True\n",
            "cool xxxx True False\n",
            "tool xxxx True False\n"
          ],
          "name": "stdout"
        }
      ]
    },
    {
      "cell_type": "markdown",
      "metadata": {
        "id": "4o6S2N_eU382",
        "colab_type": "text"
      },
      "source": [
        "# **POS Tagging**"
      ]
    },
    {
      "cell_type": "code",
      "metadata": {
        "id": "O_rCnmt5MIzO",
        "colab_type": "code",
        "outputId": "70d71ffc-c8e5-4961-b5df-8155e5ba591d",
        "colab": {
          "base_uri": "https://localhost:8080/"
        }
      },
      "source": [
        "for word in docx:\n",
        "  print(word.text, word.pos_) #word.pos is not in human readable form"
      ],
      "execution_count": 0,
      "outputs": [
        {
          "output_type": "stream",
          "text": [
            "SpaCY PROPN\n",
            "is VERB\n",
            "a DET\n",
            "cool ADJ\n",
            "tool NOUN\n"
          ],
          "name": "stdout"
        },
        {
          "output_type": "execute_result",
          "data": {
            "text/plain": [
              "'determiner'"
            ]
          },
          "metadata": {
            "tags": []
          },
          "execution_count": 118
        }
      ]
    },
    {
      "cell_type": "code",
      "metadata": {
        "id": "ER734GPZVgRb",
        "colab_type": "code",
        "outputId": "f9aa0e9c-d577-4790-a0cd-4db951f1dcd3",
        "colab": {
          "base_uri": "https://localhost:8080/"
        }
      },
      "source": [
        "print(spacy.explain('DET'))\n",
        "print(spacy.explain('PROPN'))"
      ],
      "execution_count": 0,
      "outputs": [
        {
          "output_type": "stream",
          "text": [
            "determiner\n",
            "proper noun\n"
          ],
          "name": "stdout"
        }
      ]
    },
    {
      "cell_type": "code",
      "metadata": {
        "id": "p6ALETsWVgUF",
        "colab_type": "code",
        "outputId": "511af52e-ba10-4c61-8552-ea8c2cbc50ad",
        "colab": {
          "base_uri": "https://localhost:8080/"
        }
      },
      "source": [
        "#Now let us mess with Spacy and see if it is able to tag the infamous sentence\n",
        "buff = nlp('Buffalo buffalo Buffalo buffalo buffalo buffalo Buffalo buffalo')\n",
        "buff"
      ],
      "execution_count": 0,
      "outputs": [
        {
          "output_type": "execute_result",
          "data": {
            "text/plain": [
              "Buffalo buffalo Buffalo buffalo buffalo buffalo Buffalo buffalo"
            ]
          },
          "metadata": {
            "tags": []
          },
          "execution_count": 123
        }
      ]
    },
    {
      "cell_type": "markdown",
      "metadata": {
        "id": "yXw_IyhVWhxM",
        "colab_type": "text"
      },
      "source": [
        "![image.png](data:image/png;base64,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)"
      ]
    },
    {
      "cell_type": "code",
      "metadata": {
        "id": "TchFxLwLVgWm",
        "colab_type": "code",
        "outputId": "77b33f20-50fa-4e2f-cc8d-6a7c4342adf9",
        "colab": {
          "base_uri": "https://localhost:8080/"
        }
      },
      "source": [
        "for word in buff:\n",
        "  print(word.text, word.pos_)\n",
        "\n",
        "# Ofcourse it doesn't tag it right, because it is a very complicated sentence "
      ],
      "execution_count": 0,
      "outputs": [
        {
          "output_type": "stream",
          "text": [
            "Buffalo PROPN\n",
            "buffalo NOUN\n",
            "Buffalo PROPN\n",
            "buffalo NOUN\n",
            "buffalo NOUN\n",
            "buffalo NOUN\n",
            "Buffalo PROPN\n",
            "buffalo NOUN\n"
          ],
          "name": "stdout"
        }
      ]
    },
    {
      "cell_type": "code",
      "metadata": {
        "id": "Vdry4zEuVgaA",
        "colab_type": "code",
        "outputId": "f6ed55f0-0346-43df-bbd6-f47e85d390b5",
        "colab": {
          "base_uri": "https://localhost:8080/"
        }
      },
      "source": [
        "for word in nlp('I fish a fish'):\n",
        "  print(word.text, word.pos_, word.tag_)   \n",
        "\n",
        "#spacy got this sentence right"
      ],
      "execution_count": 0,
      "outputs": [
        {
          "output_type": "stream",
          "text": [
            "I PRON PRP\n",
            "fish VERB VBP\n",
            "a DET DT\n",
            "fish NOUN NN\n"
          ],
          "name": "stdout"
        }
      ]
    },
    {
      "cell_type": "code",
      "metadata": {
        "id": "5NLTWtN8MI3h",
        "colab_type": "code",
        "outputId": "6bad461e-8c5e-451c-a084-9774f63f845c",
        "colab": {
          "base_uri": "https://localhost:8080/"
        }
      },
      "source": [
        "spacy.explain('VBP')"
      ],
      "execution_count": 0,
      "outputs": [
        {
          "output_type": "execute_result",
          "data": {
            "text/plain": [
              "'verb, non-3rd person singular present'"
            ]
          },
          "metadata": {
            "tags": []
          },
          "execution_count": 128
        }
      ]
    },
    {
      "cell_type": "code",
      "metadata": {
        "id": "hY9NgAduXScx",
        "colab_type": "code",
        "outputId": "01c55ea5-d925-4a59-e9fe-ede91f183a1b",
        "colab": {
          "base_uri": "https://localhost:8080/"
        }
      },
      "source": [
        "for word in nlp('All the faith I had had no effect on the outcome of my life'):\n",
        "  print((word.text, word.pos_, word.tag_)) "
      ],
      "execution_count": 0,
      "outputs": [
        {
          "output_type": "stream",
          "text": [
            "('All', 'DET', 'PDT')\n",
            "('the', 'DET', 'DT')\n",
            "('faith', 'NOUN', 'NN')\n",
            "('I', 'PRON', 'PRP')\n",
            "('had', 'VERB', 'VBD')\n",
            "('had', 'VERB', 'VBN')\n",
            "('no', 'DET', 'DT')\n",
            "('effect', 'NOUN', 'NN')\n",
            "('on', 'ADP', 'IN')\n",
            "('the', 'DET', 'DT')\n",
            "('outcome', 'NOUN', 'NN')\n",
            "('of', 'ADP', 'IN')\n",
            "('my', 'DET', 'PRP$')\n",
            "('life', 'NOUN', 'NN')\n"
          ],
          "name": "stdout"
        }
      ]
    },
    {
      "cell_type": "code",
      "metadata": {
        "id": "DpDnFoi4XSfR",
        "colab_type": "code",
        "outputId": "e440e58d-774e-4f59-e373-a76c6b4d684e",
        "colab": {
          "base_uri": "https://localhost:8080/"
        }
      },
      "source": [
        "print(spacy.explain('VBD'))\n",
        "print(spacy.explain('VBN'))"
      ],
      "execution_count": 0,
      "outputs": [
        {
          "output_type": "stream",
          "text": [
            "verb, past tense\n",
            "verb, past participle\n"
          ],
          "name": "stdout"
        }
      ]
    },
    {
      "cell_type": "markdown",
      "metadata": {
        "id": "-xzDiRX2Zs7Y",
        "colab_type": "text"
      },
      "source": [
        "# **Syntactical Dependency**"
      ]
    },
    {
      "cell_type": "code",
      "metadata": {
        "id": "cBbbGAViXSiM",
        "colab_type": "code",
        "outputId": "8e1d2f49-c84c-40e5-db12-2254bd3cda5a",
        "colab": {
          "base_uri": "https://localhost:8080/"
        }
      },
      "source": [
        "for word in nlp('Jack likes Rose'):\n",
        "  print(word.text, word.pos_, word.tag_, word.dep_)"
      ],
      "execution_count": 0,
      "outputs": [
        {
          "output_type": "stream",
          "text": [
            "Jack PROPN NNP nsubj\n",
            "likes VERB VBZ ROOT\n",
            "Rose PROPN NNP advmod\n"
          ],
          "name": "stdout"
        }
      ]
    },
    {
      "cell_type": "code",
      "metadata": {
        "id": "bx1bBK0oXSkP",
        "colab_type": "code",
        "outputId": "57eb2564-3ec4-495b-98e9-60ea449d1171",
        "colab": {
          "base_uri": "https://localhost:8080/"
        }
      },
      "source": [
        "spacy.explain('nsubj')"
      ],
      "execution_count": 0,
      "outputs": [
        {
          "output_type": "execute_result",
          "data": {
            "text/plain": [
              "'nominal subject'"
            ]
          },
          "metadata": {
            "tags": []
          },
          "execution_count": 139
        }
      ]
    },
    {
      "cell_type": "code",
      "metadata": {
        "id": "RZQDMuFfXSmy",
        "colab_type": "code",
        "outputId": "a79b76a6-9ca7-43d3-da08-4dbfae1c35d9",
        "colab": {
          "base_uri": "https://localhost:8080/"
        }
      },
      "source": [
        "displacy.render(nlp('Jack likes Rose'), style = 'dep', jupyter = True)"
      ],
      "execution_count": 0,
      "outputs": [
        {
          "output_type": "display_data",
          "data": {
            "text/html": [
              "<svg xmlns=\"http://www.w3.org/2000/svg\" xmlns:xlink=\"http://www.w3.org/1999/xlink\" xml:lang=\"en\" id=\"68d1ee260d304b51bc89dd190a2a6786-0\" class=\"displacy\" width=\"575\" height=\"224.5\" direction=\"ltr\" style=\"max-width: none; height: 224.5px; color: #000000; background: #ffffff; font-family: Arial; direction: ltr\">\n",
              "<text class=\"displacy-token\" fill=\"currentColor\" text-anchor=\"middle\" y=\"134.5\">\n",
              "    <tspan class=\"displacy-word\" fill=\"currentColor\" x=\"50\">Jack</tspan>\n",
              "    <tspan class=\"displacy-tag\" dy=\"2em\" fill=\"currentColor\" x=\"50\">PROPN</tspan>\n",
              "</text>\n",
              "\n",
              "<text class=\"displacy-token\" fill=\"currentColor\" text-anchor=\"middle\" y=\"134.5\">\n",
              "    <tspan class=\"displacy-word\" fill=\"currentColor\" x=\"225\">likes</tspan>\n",
              "    <tspan class=\"displacy-tag\" dy=\"2em\" fill=\"currentColor\" x=\"225\">VERB</tspan>\n",
              "</text>\n",
              "\n",
              "<text class=\"displacy-token\" fill=\"currentColor\" text-anchor=\"middle\" y=\"134.5\">\n",
              "    <tspan class=\"displacy-word\" fill=\"currentColor\" x=\"400\">Rose</tspan>\n",
              "    <tspan class=\"displacy-tag\" dy=\"2em\" fill=\"currentColor\" x=\"400\">PROPN</tspan>\n",
              "</text>\n",
              "\n",
              "<g class=\"displacy-arrow\">\n",
              "    <path class=\"displacy-arc\" id=\"arrow-68d1ee260d304b51bc89dd190a2a6786-0-0\" stroke-width=\"2px\" d=\"M70,89.5 C70,2.0 225.0,2.0 225.0,89.5\" fill=\"none\" stroke=\"currentColor\"/>\n",
              "    <text dy=\"1.25em\" style=\"font-size: 0.8em; letter-spacing: 1px\">\n",
              "        <textPath xlink:href=\"#arrow-68d1ee260d304b51bc89dd190a2a6786-0-0\" class=\"displacy-label\" startOffset=\"50%\" side=\"left\" fill=\"currentColor\" text-anchor=\"middle\">nsubj</textPath>\n",
              "    </text>\n",
              "    <path class=\"displacy-arrowhead\" d=\"M70,91.5 L62,79.5 78,79.5\" fill=\"currentColor\"/>\n",
              "</g>\n",
              "\n",
              "<g class=\"displacy-arrow\">\n",
              "    <path class=\"displacy-arc\" id=\"arrow-68d1ee260d304b51bc89dd190a2a6786-0-1\" stroke-width=\"2px\" d=\"M245,89.5 C245,2.0 400.0,2.0 400.0,89.5\" fill=\"none\" stroke=\"currentColor\"/>\n",
              "    <text dy=\"1.25em\" style=\"font-size: 0.8em; letter-spacing: 1px\">\n",
              "        <textPath xlink:href=\"#arrow-68d1ee260d304b51bc89dd190a2a6786-0-1\" class=\"displacy-label\" startOffset=\"50%\" side=\"left\" fill=\"currentColor\" text-anchor=\"middle\">advmod</textPath>\n",
              "    </text>\n",
              "    <path class=\"displacy-arrowhead\" d=\"M400.0,91.5 L408.0,79.5 392.0,79.5\" fill=\"currentColor\"/>\n",
              "</g>\n",
              "</svg>"
            ],
            "text/plain": [
              "<IPython.core.display.HTML object>"
            ]
          },
          "metadata": {
            "tags": []
          }
        }
      ]
    },
    {
      "cell_type": "markdown",
      "metadata": {
        "id": "e1JPY204aG20",
        "colab_type": "text"
      },
      "source": [
        "# **Lemmatization**\n",
        "\n",
        "Stemming just cuts the suffix and prefix wheras lemmatization turns words into meaningful root words"
      ]
    },
    {
      "cell_type": "code",
      "metadata": {
        "id": "zE_HRonTaKHp",
        "colab_type": "code",
        "outputId": "8a595a37-e819-4cdd-a71a-a3f402c13ff4",
        "colab": {
          "base_uri": "https://localhost:8080/"
        }
      },
      "source": [
        "doc = nlp(\"Study studying studious studio student sturdy\")\n",
        "for word in doc:\n",
        "  print(word.text, word.lemma_, word.pos_) "
      ],
      "execution_count": 0,
      "outputs": [
        {
          "output_type": "stream",
          "text": [
            "Study study NOUN\n",
            "studying study VERB\n",
            "studious studious ADJ\n",
            "studio studio NOUN\n",
            "student student NOUN\n",
            "sturdy sturdy NOUN\n"
          ],
          "name": "stdout"
        }
      ]
    },
    {
      "cell_type": "code",
      "metadata": {
        "id": "zGTblzTkaKMq",
        "colab_type": "code",
        "outputId": "91f3de35-4f63-474a-96f2-a1ab3022ccce",
        "colab": {
          "base_uri": "https://localhost:8080/"
        }
      },
      "source": [
        "doc = nlp(\"She walks regularly. walking walks walked walker walkman was were be is\")\n",
        "for word in doc:\n",
        "  print(word.text, word.lemma_, word.pos_) \n",
        "\n",
        "#she walks (walks) is identified as verb wheras the second walks is identified as noun. This is really good"
      ],
      "execution_count": 0,
      "outputs": [
        {
          "output_type": "stream",
          "text": [
            "She -PRON- PRON\n",
            "walks walk VERB\n",
            "regularly regularly ADV\n",
            ". . PUNCT\n",
            "walking walking NOUN\n",
            "walks walk NOUN\n",
            "walked walk VERB\n",
            "walker walker NOUN\n",
            "walkman walkman NOUN\n",
            "was be VERB\n",
            "were be VERB\n",
            "be be VERB\n",
            "is be VERB\n"
          ],
          "name": "stdout"
        }
      ]
    },
    {
      "cell_type": "code",
      "metadata": {
        "id": "fBL7fjf8aKPg",
        "colab_type": "code",
        "colab": {}
      },
      "source": [
        ""
      ],
      "execution_count": 0,
      "outputs": []
    },
    {
      "cell_type": "markdown",
      "metadata": {
        "id": "Rx1ovjHvcD4I",
        "colab_type": "text"
      },
      "source": [
        "# **Named Entity Recognition**"
      ]
    },
    {
      "cell_type": "code",
      "metadata": {
        "id": "3jhF3suqaKR6",
        "colab_type": "code",
        "outputId": "1b068700-f733-415e-f557-8b4bdb3ef898",
        "colab": {
          "base_uri": "https://localhost:8080/"
        }
      },
      "source": [
        "for word in docfile.ents:\n",
        "  print(word.text, word.label_)\n",
        "\n",
        "print(\"\\n\",docfile)"
      ],
      "execution_count": 0,
      "outputs": [
        {
          "output_type": "stream",
          "text": [
            "London GPE\n",
            "London GPE\n",
            "\n",
            " Hey there! what's up with you?\n",
            "I am good. How are you?\n",
            "I went on a trip to London for the break. Enjoyed my time there.\n",
            "I visited my cousins in London too. Such a small world\n"
          ],
          "name": "stdout"
        }
      ]
    },
    {
      "cell_type": "code",
      "metadata": {
        "id": "ttPZ1QaBaKUg",
        "colab_type": "code",
        "outputId": "c5eab96d-a357-4220-e902-ccd6d833c328",
        "colab": {
          "base_uri": "https://localhost:8080/"
        }
      },
      "source": [
        "d = nlp(\"Facebook, America, Explosion.ai\")\n",
        "print(d)\n",
        "for word in d.ents:\n",
        "  print(word.text, word.label_)"
      ],
      "execution_count": 0,
      "outputs": [
        {
          "output_type": "stream",
          "text": [
            "Facebook, America, Explosion.ai\n",
            "America GPE\n"
          ],
          "name": "stdout"
        }
      ]
    },
    {
      "cell_type": "code",
      "metadata": {
        "id": "VKLHvAaWaKYn",
        "colab_type": "code",
        "outputId": "c7b94eed-949a-47af-8d0c-67c31a9ce418",
        "colab": {
          "base_uri": "https://localhost:8080/"
        }
      },
      "source": [
        "displacy.render(docfile, style = 'ent', jupyter = True)"
      ],
      "execution_count": 0,
      "outputs": [
        {
          "output_type": "display_data",
          "data": {
            "text/html": [
              "<div class=\"entities\" style=\"line-height: 2.5; direction: ltr\">Hey there! what's up with you?</br>I am good. How are you?</br>I went on a trip to \n",
              "<mark class=\"entity\" style=\"background: #feca74; padding: 0.45em 0.6em; margin: 0 0.25em; line-height: 1; border-radius: 0.35em; box-decoration-break: clone; -webkit-box-decoration-break: clone\">\n",
              "    London\n",
              "    <span style=\"font-size: 0.8em; font-weight: bold; line-height: 1; border-radius: 0.35em; text-transform: uppercase; vertical-align: middle; margin-left: 0.5rem\">GPE</span>\n",
              "</mark>\n",
              " for the break. Enjoyed my time there.</br>I visited my cousins in \n",
              "<mark class=\"entity\" style=\"background: #feca74; padding: 0.45em 0.6em; margin: 0 0.25em; line-height: 1; border-radius: 0.35em; box-decoration-break: clone; -webkit-box-decoration-break: clone\">\n",
              "    London\n",
              "    <span style=\"font-size: 0.8em; font-weight: bold; line-height: 1; border-radius: 0.35em; text-transform: uppercase; vertical-align: middle; margin-left: 0.5rem\">GPE</span>\n",
              "</mark>\n",
              " too. Such a small world</div>"
            ],
            "text/plain": [
              "<IPython.core.display.HTML object>"
            ]
          },
          "metadata": {
            "tags": []
          }
        }
      ]
    },
    {
      "cell_type": "markdown",
      "metadata": {
        "id": "vYB2O6Z3eA-5",
        "colab_type": "text"
      },
      "source": [
        "# **Visualizing with Displacy**"
      ]
    },
    {
      "cell_type": "code",
      "metadata": {
        "id": "7QkHI2EKeGt7",
        "colab_type": "code",
        "outputId": "cfbf5ff7-43f9-445d-b4af-ec7a982931fb",
        "colab": {
          "base_uri": "https://localhost:8080/"
        }
      },
      "source": [
        "displacy.render(docfile, style = 'ent', options = options, jupyter = True)  #doesn't change for text display"
      ],
      "execution_count": 0,
      "outputs": [
        {
          "output_type": "display_data",
          "data": {
            "text/html": [
              "<div class=\"entities\" style=\"line-height: 2.5; direction: ltr\">Hey there! what's up with you?</br>I am good. How are you?</br>I went on a trip to \n",
              "<mark class=\"entity\" style=\"background: #feca74; padding: 0.45em 0.6em; margin: 0 0.25em; line-height: 1; border-radius: 0.35em; box-decoration-break: clone; -webkit-box-decoration-break: clone\">\n",
              "    London\n",
              "    <span style=\"font-size: 0.8em; font-weight: bold; line-height: 1; border-radius: 0.35em; text-transform: uppercase; vertical-align: middle; margin-left: 0.5rem\">GPE</span>\n",
              "</mark>\n",
              " for the break. Enjoyed my time there.</br>I visited my cousins in \n",
              "<mark class=\"entity\" style=\"background: #feca74; padding: 0.45em 0.6em; margin: 0 0.25em; line-height: 1; border-radius: 0.35em; box-decoration-break: clone; -webkit-box-decoration-break: clone\">\n",
              "    London\n",
              "    <span style=\"font-size: 0.8em; font-weight: bold; line-height: 1; border-radius: 0.35em; text-transform: uppercase; vertical-align: middle; margin-left: 0.5rem\">GPE</span>\n",
              "</mark>\n",
              " too. Such a small world</div>"
            ],
            "text/plain": [
              "<IPython.core.display.HTML object>"
            ]
          },
          "metadata": {
            "tags": []
          }
        }
      ]
    },
    {
      "cell_type": "code",
      "metadata": {
        "id": "NV8PSWLceGwm",
        "colab_type": "code",
        "colab": {}
      },
      "source": [
        "options = {'compact':True, 'bg':'cornflowerblue', 'color':'#fff', 'font': 'Verdana'}"
      ],
      "execution_count": 0,
      "outputs": []
    },
    {
      "cell_type": "code",
      "metadata": {
        "id": "lrH6Nys9aKW-",
        "colab_type": "code",
        "outputId": "d3161cd9-ad82-41ba-954f-a5b6746c4867",
        "colab": {
          "base_uri": "https://localhost:8080/"
        }
      },
      "source": [
        "displacy.render(docfile, style = 'dep', options = options, jupyter = True)   #works well for pictorial display"
      ],
      "execution_count": 0,
      "outputs": [
        {
          "output_type": "display_data",
          "data": {
            "text/html": [
              "<svg xmlns=\"http://www.w3.org/2000/svg\" xmlns:xlink=\"http://www.w3.org/1999/xlink\" xml:lang=\"en\" id=\"349d169b3d4d4c889b7c8d4e5bee962d-0\" class=\"displacy\" width=\"6200\" height=\"512.0\" direction=\"ltr\" style=\"max-width: none; height: 512.0px; color: #fff; background: cornflowerblue; font-family: Verdana; direction: ltr\">\n",
              "<text class=\"displacy-token\" fill=\"currentColor\" text-anchor=\"middle\" y=\"422.0\">\n",
              "    <tspan class=\"displacy-word\" fill=\"currentColor\" x=\"50\">Hey</tspan>\n",
              "    <tspan class=\"displacy-tag\" dy=\"2em\" fill=\"currentColor\" x=\"50\">INTJ</tspan>\n",
              "</text>\n",
              "\n",
              "<text class=\"displacy-token\" fill=\"currentColor\" text-anchor=\"middle\" y=\"422.0\">\n",
              "    <tspan class=\"displacy-word\" fill=\"currentColor\" x=\"200\">there!</tspan>\n",
              "    <tspan class=\"displacy-tag\" dy=\"2em\" fill=\"currentColor\" x=\"200\">ADV</tspan>\n",
              "</text>\n",
              "\n",
              "<text class=\"displacy-token\" fill=\"currentColor\" text-anchor=\"middle\" y=\"422.0\">\n",
              "    <tspan class=\"displacy-word\" fill=\"currentColor\" x=\"350\">what</tspan>\n",
              "    <tspan class=\"displacy-tag\" dy=\"2em\" fill=\"currentColor\" x=\"350\">PRON</tspan>\n",
              "</text>\n",
              "\n",
              "<text class=\"displacy-token\" fill=\"currentColor\" text-anchor=\"middle\" y=\"422.0\">\n",
              "    <tspan class=\"displacy-word\" fill=\"currentColor\" x=\"500\">'s</tspan>\n",
              "    <tspan class=\"displacy-tag\" dy=\"2em\" fill=\"currentColor\" x=\"500\">VERB</tspan>\n",
              "</text>\n",
              "\n",
              "<text class=\"displacy-token\" fill=\"currentColor\" text-anchor=\"middle\" y=\"422.0\">\n",
              "    <tspan class=\"displacy-word\" fill=\"currentColor\" x=\"650\">up</tspan>\n",
              "    <tspan class=\"displacy-tag\" dy=\"2em\" fill=\"currentColor\" x=\"650\">PART</tspan>\n",
              "</text>\n",
              "\n",
              "<text class=\"displacy-token\" fill=\"currentColor\" text-anchor=\"middle\" y=\"422.0\">\n",
              "    <tspan class=\"displacy-word\" fill=\"currentColor\" x=\"800\">with</tspan>\n",
              "    <tspan class=\"displacy-tag\" dy=\"2em\" fill=\"currentColor\" x=\"800\">ADP</tspan>\n",
              "</text>\n",
              "\n",
              "<text class=\"displacy-token\" fill=\"currentColor\" text-anchor=\"middle\" y=\"422.0\">\n",
              "    <tspan class=\"displacy-word\" fill=\"currentColor\" x=\"950\">you?</tspan>\n",
              "    <tspan class=\"displacy-tag\" dy=\"2em\" fill=\"currentColor\" x=\"950\">PRON</tspan>\n",
              "</text>\n",
              "\n",
              "<text class=\"displacy-token\" fill=\"currentColor\" text-anchor=\"middle\" y=\"422.0\">\n",
              "    <tspan class=\"displacy-word\" fill=\"currentColor\" x=\"1100\">\n",
              "</tspan>\n",
              "    <tspan class=\"displacy-tag\" dy=\"2em\" fill=\"currentColor\" x=\"1100\">SPACE</tspan>\n",
              "</text>\n",
              "\n",
              "<text class=\"displacy-token\" fill=\"currentColor\" text-anchor=\"middle\" y=\"422.0\">\n",
              "    <tspan class=\"displacy-word\" fill=\"currentColor\" x=\"1250\">I</tspan>\n",
              "    <tspan class=\"displacy-tag\" dy=\"2em\" fill=\"currentColor\" x=\"1250\">PRON</tspan>\n",
              "</text>\n",
              "\n",
              "<text class=\"displacy-token\" fill=\"currentColor\" text-anchor=\"middle\" y=\"422.0\">\n",
              "    <tspan class=\"displacy-word\" fill=\"currentColor\" x=\"1400\">am</tspan>\n",
              "    <tspan class=\"displacy-tag\" dy=\"2em\" fill=\"currentColor\" x=\"1400\">VERB</tspan>\n",
              "</text>\n",
              "\n",
              "<text class=\"displacy-token\" fill=\"currentColor\" text-anchor=\"middle\" y=\"422.0\">\n",
              "    <tspan class=\"displacy-word\" fill=\"currentColor\" x=\"1550\">good.</tspan>\n",
              "    <tspan class=\"displacy-tag\" dy=\"2em\" fill=\"currentColor\" x=\"1550\">ADJ</tspan>\n",
              "</text>\n",
              "\n",
              "<text class=\"displacy-token\" fill=\"currentColor\" text-anchor=\"middle\" y=\"422.0\">\n",
              "    <tspan class=\"displacy-word\" fill=\"currentColor\" x=\"1700\">How</tspan>\n",
              "    <tspan class=\"displacy-tag\" dy=\"2em\" fill=\"currentColor\" x=\"1700\">ADV</tspan>\n",
              "</text>\n",
              "\n",
              "<text class=\"displacy-token\" fill=\"currentColor\" text-anchor=\"middle\" y=\"422.0\">\n",
              "    <tspan class=\"displacy-word\" fill=\"currentColor\" x=\"1850\">are</tspan>\n",
              "    <tspan class=\"displacy-tag\" dy=\"2em\" fill=\"currentColor\" x=\"1850\">VERB</tspan>\n",
              "</text>\n",
              "\n",
              "<text class=\"displacy-token\" fill=\"currentColor\" text-anchor=\"middle\" y=\"422.0\">\n",
              "    <tspan class=\"displacy-word\" fill=\"currentColor\" x=\"2000\">you?</tspan>\n",
              "    <tspan class=\"displacy-tag\" dy=\"2em\" fill=\"currentColor\" x=\"2000\">PRON</tspan>\n",
              "</text>\n",
              "\n",
              "<text class=\"displacy-token\" fill=\"currentColor\" text-anchor=\"middle\" y=\"422.0\">\n",
              "    <tspan class=\"displacy-word\" fill=\"currentColor\" x=\"2150\">\n",
              "</tspan>\n",
              "    <tspan class=\"displacy-tag\" dy=\"2em\" fill=\"currentColor\" x=\"2150\">SPACE</tspan>\n",
              "</text>\n",
              "\n",
              "<text class=\"displacy-token\" fill=\"currentColor\" text-anchor=\"middle\" y=\"422.0\">\n",
              "    <tspan class=\"displacy-word\" fill=\"currentColor\" x=\"2300\">I</tspan>\n",
              "    <tspan class=\"displacy-tag\" dy=\"2em\" fill=\"currentColor\" x=\"2300\">PRON</tspan>\n",
              "</text>\n",
              "\n",
              "<text class=\"displacy-token\" fill=\"currentColor\" text-anchor=\"middle\" y=\"422.0\">\n",
              "    <tspan class=\"displacy-word\" fill=\"currentColor\" x=\"2450\">went</tspan>\n",
              "    <tspan class=\"displacy-tag\" dy=\"2em\" fill=\"currentColor\" x=\"2450\">VERB</tspan>\n",
              "</text>\n",
              "\n",
              "<text class=\"displacy-token\" fill=\"currentColor\" text-anchor=\"middle\" y=\"422.0\">\n",
              "    <tspan class=\"displacy-word\" fill=\"currentColor\" x=\"2600\">on</tspan>\n",
              "    <tspan class=\"displacy-tag\" dy=\"2em\" fill=\"currentColor\" x=\"2600\">ADP</tspan>\n",
              "</text>\n",
              "\n",
              "<text class=\"displacy-token\" fill=\"currentColor\" text-anchor=\"middle\" y=\"422.0\">\n",
              "    <tspan class=\"displacy-word\" fill=\"currentColor\" x=\"2750\">a</tspan>\n",
              "    <tspan class=\"displacy-tag\" dy=\"2em\" fill=\"currentColor\" x=\"2750\">DET</tspan>\n",
              "</text>\n",
              "\n",
              "<text class=\"displacy-token\" fill=\"currentColor\" text-anchor=\"middle\" y=\"422.0\">\n",
              "    <tspan class=\"displacy-word\" fill=\"currentColor\" x=\"2900\">trip</tspan>\n",
              "    <tspan class=\"displacy-tag\" dy=\"2em\" fill=\"currentColor\" x=\"2900\">NOUN</tspan>\n",
              "</text>\n",
              "\n",
              "<text class=\"displacy-token\" fill=\"currentColor\" text-anchor=\"middle\" y=\"422.0\">\n",
              "    <tspan class=\"displacy-word\" fill=\"currentColor\" x=\"3050\">to</tspan>\n",
              "    <tspan class=\"displacy-tag\" dy=\"2em\" fill=\"currentColor\" x=\"3050\">ADP</tspan>\n",
              "</text>\n",
              "\n",
              "<text class=\"displacy-token\" fill=\"currentColor\" text-anchor=\"middle\" y=\"422.0\">\n",
              "    <tspan class=\"displacy-word\" fill=\"currentColor\" x=\"3200\">London</tspan>\n",
              "    <tspan class=\"displacy-tag\" dy=\"2em\" fill=\"currentColor\" x=\"3200\">PROPN</tspan>\n",
              "</text>\n",
              "\n",
              "<text class=\"displacy-token\" fill=\"currentColor\" text-anchor=\"middle\" y=\"422.0\">\n",
              "    <tspan class=\"displacy-word\" fill=\"currentColor\" x=\"3350\">for</tspan>\n",
              "    <tspan class=\"displacy-tag\" dy=\"2em\" fill=\"currentColor\" x=\"3350\">ADP</tspan>\n",
              "</text>\n",
              "\n",
              "<text class=\"displacy-token\" fill=\"currentColor\" text-anchor=\"middle\" y=\"422.0\">\n",
              "    <tspan class=\"displacy-word\" fill=\"currentColor\" x=\"3500\">the</tspan>\n",
              "    <tspan class=\"displacy-tag\" dy=\"2em\" fill=\"currentColor\" x=\"3500\">DET</tspan>\n",
              "</text>\n",
              "\n",
              "<text class=\"displacy-token\" fill=\"currentColor\" text-anchor=\"middle\" y=\"422.0\">\n",
              "    <tspan class=\"displacy-word\" fill=\"currentColor\" x=\"3650\">break.</tspan>\n",
              "    <tspan class=\"displacy-tag\" dy=\"2em\" fill=\"currentColor\" x=\"3650\">NOUN</tspan>\n",
              "</text>\n",
              "\n",
              "<text class=\"displacy-token\" fill=\"currentColor\" text-anchor=\"middle\" y=\"422.0\">\n",
              "    <tspan class=\"displacy-word\" fill=\"currentColor\" x=\"3800\">Enjoyed</tspan>\n",
              "    <tspan class=\"displacy-tag\" dy=\"2em\" fill=\"currentColor\" x=\"3800\">VERB</tspan>\n",
              "</text>\n",
              "\n",
              "<text class=\"displacy-token\" fill=\"currentColor\" text-anchor=\"middle\" y=\"422.0\">\n",
              "    <tspan class=\"displacy-word\" fill=\"currentColor\" x=\"3950\">my</tspan>\n",
              "    <tspan class=\"displacy-tag\" dy=\"2em\" fill=\"currentColor\" x=\"3950\">DET</tspan>\n",
              "</text>\n",
              "\n",
              "<text class=\"displacy-token\" fill=\"currentColor\" text-anchor=\"middle\" y=\"422.0\">\n",
              "    <tspan class=\"displacy-word\" fill=\"currentColor\" x=\"4100\">time</tspan>\n",
              "    <tspan class=\"displacy-tag\" dy=\"2em\" fill=\"currentColor\" x=\"4100\">NOUN</tspan>\n",
              "</text>\n",
              "\n",
              "<text class=\"displacy-token\" fill=\"currentColor\" text-anchor=\"middle\" y=\"422.0\">\n",
              "    <tspan class=\"displacy-word\" fill=\"currentColor\" x=\"4250\">there.</tspan>\n",
              "    <tspan class=\"displacy-tag\" dy=\"2em\" fill=\"currentColor\" x=\"4250\">ADV</tspan>\n",
              "</text>\n",
              "\n",
              "<text class=\"displacy-token\" fill=\"currentColor\" text-anchor=\"middle\" y=\"422.0\">\n",
              "    <tspan class=\"displacy-word\" fill=\"currentColor\" x=\"4400\">\n",
              "</tspan>\n",
              "    <tspan class=\"displacy-tag\" dy=\"2em\" fill=\"currentColor\" x=\"4400\">SPACE</tspan>\n",
              "</text>\n",
              "\n",
              "<text class=\"displacy-token\" fill=\"currentColor\" text-anchor=\"middle\" y=\"422.0\">\n",
              "    <tspan class=\"displacy-word\" fill=\"currentColor\" x=\"4550\">I</tspan>\n",
              "    <tspan class=\"displacy-tag\" dy=\"2em\" fill=\"currentColor\" x=\"4550\">PRON</tspan>\n",
              "</text>\n",
              "\n",
              "<text class=\"displacy-token\" fill=\"currentColor\" text-anchor=\"middle\" y=\"422.0\">\n",
              "    <tspan class=\"displacy-word\" fill=\"currentColor\" x=\"4700\">visited</tspan>\n",
              "    <tspan class=\"displacy-tag\" dy=\"2em\" fill=\"currentColor\" x=\"4700\">VERB</tspan>\n",
              "</text>\n",
              "\n",
              "<text class=\"displacy-token\" fill=\"currentColor\" text-anchor=\"middle\" y=\"422.0\">\n",
              "    <tspan class=\"displacy-word\" fill=\"currentColor\" x=\"4850\">my</tspan>\n",
              "    <tspan class=\"displacy-tag\" dy=\"2em\" fill=\"currentColor\" x=\"4850\">DET</tspan>\n",
              "</text>\n",
              "\n",
              "<text class=\"displacy-token\" fill=\"currentColor\" text-anchor=\"middle\" y=\"422.0\">\n",
              "    <tspan class=\"displacy-word\" fill=\"currentColor\" x=\"5000\">cousins</tspan>\n",
              "    <tspan class=\"displacy-tag\" dy=\"2em\" fill=\"currentColor\" x=\"5000\">NOUN</tspan>\n",
              "</text>\n",
              "\n",
              "<text class=\"displacy-token\" fill=\"currentColor\" text-anchor=\"middle\" y=\"422.0\">\n",
              "    <tspan class=\"displacy-word\" fill=\"currentColor\" x=\"5150\">in</tspan>\n",
              "    <tspan class=\"displacy-tag\" dy=\"2em\" fill=\"currentColor\" x=\"5150\">ADP</tspan>\n",
              "</text>\n",
              "\n",
              "<text class=\"displacy-token\" fill=\"currentColor\" text-anchor=\"middle\" y=\"422.0\">\n",
              "    <tspan class=\"displacy-word\" fill=\"currentColor\" x=\"5300\">London</tspan>\n",
              "    <tspan class=\"displacy-tag\" dy=\"2em\" fill=\"currentColor\" x=\"5300\">PROPN</tspan>\n",
              "</text>\n",
              "\n",
              "<text class=\"displacy-token\" fill=\"currentColor\" text-anchor=\"middle\" y=\"422.0\">\n",
              "    <tspan class=\"displacy-word\" fill=\"currentColor\" x=\"5450\">too.</tspan>\n",
              "    <tspan class=\"displacy-tag\" dy=\"2em\" fill=\"currentColor\" x=\"5450\">ADV</tspan>\n",
              "</text>\n",
              "\n",
              "<text class=\"displacy-token\" fill=\"currentColor\" text-anchor=\"middle\" y=\"422.0\">\n",
              "    <tspan class=\"displacy-word\" fill=\"currentColor\" x=\"5600\">Such</tspan>\n",
              "    <tspan class=\"displacy-tag\" dy=\"2em\" fill=\"currentColor\" x=\"5600\">DET</tspan>\n",
              "</text>\n",
              "\n",
              "<text class=\"displacy-token\" fill=\"currentColor\" text-anchor=\"middle\" y=\"422.0\">\n",
              "    <tspan class=\"displacy-word\" fill=\"currentColor\" x=\"5750\">a</tspan>\n",
              "    <tspan class=\"displacy-tag\" dy=\"2em\" fill=\"currentColor\" x=\"5750\">DET</tspan>\n",
              "</text>\n",
              "\n",
              "<text class=\"displacy-token\" fill=\"currentColor\" text-anchor=\"middle\" y=\"422.0\">\n",
              "    <tspan class=\"displacy-word\" fill=\"currentColor\" x=\"5900\">small</tspan>\n",
              "    <tspan class=\"displacy-tag\" dy=\"2em\" fill=\"currentColor\" x=\"5900\">ADJ</tspan>\n",
              "</text>\n",
              "\n",
              "<text class=\"displacy-token\" fill=\"currentColor\" text-anchor=\"middle\" y=\"422.0\">\n",
              "    <tspan class=\"displacy-word\" fill=\"currentColor\" x=\"6050\">world</tspan>\n",
              "    <tspan class=\"displacy-tag\" dy=\"2em\" fill=\"currentColor\" x=\"6050\">NOUN</tspan>\n",
              "</text>\n",
              "\n",
              "<g class=\"displacy-arrow\">\n",
              "    <path class=\"displacy-arc\" id=\"arrow-349d169b3d4d4c889b7c8d4e5bee962d-0-0\" stroke-width=\"2px\" d=\"M62,377.0 62,302.0 494.0,302.0 494.0,377.0\" fill=\"none\" stroke=\"currentColor\"/>\n",
              "    <text dy=\"1.25em\" style=\"font-size: 0.8em; letter-spacing: 1px\">\n",
              "        <textPath xlink:href=\"#arrow-349d169b3d4d4c889b7c8d4e5bee962d-0-0\" class=\"displacy-label\" startOffset=\"50%\" side=\"left\" fill=\"currentColor\" text-anchor=\"middle\">intj</textPath>\n",
              "    </text>\n",
              "    <path class=\"displacy-arrowhead\" d=\"M62,379.0 L58,371.0 66,371.0\" fill=\"currentColor\"/>\n",
              "</g>\n",
              "\n",
              "<g class=\"displacy-arrow\">\n",
              "    <path class=\"displacy-arc\" id=\"arrow-349d169b3d4d4c889b7c8d4e5bee962d-0-1\" stroke-width=\"2px\" d=\"M62,377.0 62,352.0 188.0,352.0 188.0,377.0\" fill=\"none\" stroke=\"currentColor\"/>\n",
              "    <text dy=\"1.25em\" style=\"font-size: 0.8em; letter-spacing: 1px\">\n",
              "        <textPath xlink:href=\"#arrow-349d169b3d4d4c889b7c8d4e5bee962d-0-1\" class=\"displacy-label\" startOffset=\"50%\" side=\"left\" fill=\"currentColor\" text-anchor=\"middle\">advmod</textPath>\n",
              "    </text>\n",
              "    <path class=\"displacy-arrowhead\" d=\"M188.0,379.0 L192.0,371.0 184.0,371.0\" fill=\"currentColor\"/>\n",
              "</g>\n",
              "\n",
              "<g class=\"displacy-arrow\">\n",
              "    <path class=\"displacy-arc\" id=\"arrow-349d169b3d4d4c889b7c8d4e5bee962d-0-2\" stroke-width=\"2px\" d=\"M362,377.0 362,352.0 488.0,352.0 488.0,377.0\" fill=\"none\" stroke=\"currentColor\"/>\n",
              "    <text dy=\"1.25em\" style=\"font-size: 0.8em; letter-spacing: 1px\">\n",
              "        <textPath xlink:href=\"#arrow-349d169b3d4d4c889b7c8d4e5bee962d-0-2\" class=\"displacy-label\" startOffset=\"50%\" side=\"left\" fill=\"currentColor\" text-anchor=\"middle\">nsubj</textPath>\n",
              "    </text>\n",
              "    <path class=\"displacy-arrowhead\" d=\"M362,379.0 L358,371.0 366,371.0\" fill=\"currentColor\"/>\n",
              "</g>\n",
              "\n",
              "<g class=\"displacy-arrow\">\n",
              "    <path class=\"displacy-arc\" id=\"arrow-349d169b3d4d4c889b7c8d4e5bee962d-0-3\" stroke-width=\"2px\" d=\"M512,377.0 512,352.0 638.0,352.0 638.0,377.0\" fill=\"none\" stroke=\"currentColor\"/>\n",
              "    <text dy=\"1.25em\" style=\"font-size: 0.8em; letter-spacing: 1px\">\n",
              "        <textPath xlink:href=\"#arrow-349d169b3d4d4c889b7c8d4e5bee962d-0-3\" class=\"displacy-label\" startOffset=\"50%\" side=\"left\" fill=\"currentColor\" text-anchor=\"middle\">advmod</textPath>\n",
              "    </text>\n",
              "    <path class=\"displacy-arrowhead\" d=\"M638.0,379.0 L642.0,371.0 634.0,371.0\" fill=\"currentColor\"/>\n",
              "</g>\n",
              "\n",
              "<g class=\"displacy-arrow\">\n",
              "    <path class=\"displacy-arc\" id=\"arrow-349d169b3d4d4c889b7c8d4e5bee962d-0-4\" stroke-width=\"2px\" d=\"M512,377.0 512,327.0 791.0,327.0 791.0,377.0\" fill=\"none\" stroke=\"currentColor\"/>\n",
              "    <text dy=\"1.25em\" style=\"font-size: 0.8em; letter-spacing: 1px\">\n",
              "        <textPath xlink:href=\"#arrow-349d169b3d4d4c889b7c8d4e5bee962d-0-4\" class=\"displacy-label\" startOffset=\"50%\" side=\"left\" fill=\"currentColor\" text-anchor=\"middle\">prep</textPath>\n",
              "    </text>\n",
              "    <path class=\"displacy-arrowhead\" d=\"M791.0,379.0 L795.0,371.0 787.0,371.0\" fill=\"currentColor\"/>\n",
              "</g>\n",
              "\n",
              "<g class=\"displacy-arrow\">\n",
              "    <path class=\"displacy-arc\" id=\"arrow-349d169b3d4d4c889b7c8d4e5bee962d-0-5\" stroke-width=\"2px\" d=\"M512,377.0 512,302.0 944.0,302.0 944.0,377.0\" fill=\"none\" stroke=\"currentColor\"/>\n",
              "    <text dy=\"1.25em\" style=\"font-size: 0.8em; letter-spacing: 1px\">\n",
              "        <textPath xlink:href=\"#arrow-349d169b3d4d4c889b7c8d4e5bee962d-0-5\" class=\"displacy-label\" startOffset=\"50%\" side=\"left\" fill=\"currentColor\" text-anchor=\"middle\">punct</textPath>\n",
              "    </text>\n",
              "    <path class=\"displacy-arrowhead\" d=\"M944.0,379.0 L948.0,371.0 940.0,371.0\" fill=\"currentColor\"/>\n",
              "</g>\n",
              "\n",
              "<g class=\"displacy-arrow\">\n",
              "    <path class=\"displacy-arc\" id=\"arrow-349d169b3d4d4c889b7c8d4e5bee962d-0-6\" stroke-width=\"2px\" d=\"M962,377.0 962,352.0 1088.0,352.0 1088.0,377.0\" fill=\"none\" stroke=\"currentColor\"/>\n",
              "    <text dy=\"1.25em\" style=\"font-size: 0.8em; letter-spacing: 1px\">\n",
              "        <textPath xlink:href=\"#arrow-349d169b3d4d4c889b7c8d4e5bee962d-0-6\" class=\"displacy-label\" startOffset=\"50%\" side=\"left\" fill=\"currentColor\" text-anchor=\"middle\"></textPath>\n",
              "    </text>\n",
              "    <path class=\"displacy-arrowhead\" d=\"M1088.0,379.0 L1092.0,371.0 1084.0,371.0\" fill=\"currentColor\"/>\n",
              "</g>\n",
              "\n",
              "<g class=\"displacy-arrow\">\n",
              "    <path class=\"displacy-arc\" id=\"arrow-349d169b3d4d4c889b7c8d4e5bee962d-0-7\" stroke-width=\"2px\" d=\"M1262,377.0 1262,352.0 1388.0,352.0 1388.0,377.0\" fill=\"none\" stroke=\"currentColor\"/>\n",
              "    <text dy=\"1.25em\" style=\"font-size: 0.8em; letter-spacing: 1px\">\n",
              "        <textPath xlink:href=\"#arrow-349d169b3d4d4c889b7c8d4e5bee962d-0-7\" class=\"displacy-label\" startOffset=\"50%\" side=\"left\" fill=\"currentColor\" text-anchor=\"middle\">nsubj</textPath>\n",
              "    </text>\n",
              "    <path class=\"displacy-arrowhead\" d=\"M1262,379.0 L1258,371.0 1266,371.0\" fill=\"currentColor\"/>\n",
              "</g>\n",
              "\n",
              "<g class=\"displacy-arrow\">\n",
              "    <path class=\"displacy-arc\" id=\"arrow-349d169b3d4d4c889b7c8d4e5bee962d-0-8\" stroke-width=\"2px\" d=\"M1412,377.0 1412,352.0 1538.0,352.0 1538.0,377.0\" fill=\"none\" stroke=\"currentColor\"/>\n",
              "    <text dy=\"1.25em\" style=\"font-size: 0.8em; letter-spacing: 1px\">\n",
              "        <textPath xlink:href=\"#arrow-349d169b3d4d4c889b7c8d4e5bee962d-0-8\" class=\"displacy-label\" startOffset=\"50%\" side=\"left\" fill=\"currentColor\" text-anchor=\"middle\">acomp</textPath>\n",
              "    </text>\n",
              "    <path class=\"displacy-arrowhead\" d=\"M1538.0,379.0 L1542.0,371.0 1534.0,371.0\" fill=\"currentColor\"/>\n",
              "</g>\n",
              "\n",
              "<g class=\"displacy-arrow\">\n",
              "    <path class=\"displacy-arc\" id=\"arrow-349d169b3d4d4c889b7c8d4e5bee962d-0-9\" stroke-width=\"2px\" d=\"M1712,377.0 1712,352.0 1838.0,352.0 1838.0,377.0\" fill=\"none\" stroke=\"currentColor\"/>\n",
              "    <text dy=\"1.25em\" style=\"font-size: 0.8em; letter-spacing: 1px\">\n",
              "        <textPath xlink:href=\"#arrow-349d169b3d4d4c889b7c8d4e5bee962d-0-9\" class=\"displacy-label\" startOffset=\"50%\" side=\"left\" fill=\"currentColor\" text-anchor=\"middle\">advmod</textPath>\n",
              "    </text>\n",
              "    <path class=\"displacy-arrowhead\" d=\"M1712,379.0 L1708,371.0 1716,371.0\" fill=\"currentColor\"/>\n",
              "</g>\n",
              "\n",
              "<g class=\"displacy-arrow\">\n",
              "    <path class=\"displacy-arc\" id=\"arrow-349d169b3d4d4c889b7c8d4e5bee962d-0-10\" stroke-width=\"2px\" d=\"M1862,377.0 1862,352.0 1988.0,352.0 1988.0,377.0\" fill=\"none\" stroke=\"currentColor\"/>\n",
              "    <text dy=\"1.25em\" style=\"font-size: 0.8em; letter-spacing: 1px\">\n",
              "        <textPath xlink:href=\"#arrow-349d169b3d4d4c889b7c8d4e5bee962d-0-10\" class=\"displacy-label\" startOffset=\"50%\" side=\"left\" fill=\"currentColor\" text-anchor=\"middle\">nsubj</textPath>\n",
              "    </text>\n",
              "    <path class=\"displacy-arrowhead\" d=\"M1988.0,379.0 L1992.0,371.0 1984.0,371.0\" fill=\"currentColor\"/>\n",
              "</g>\n",
              "\n",
              "<g class=\"displacy-arrow\">\n",
              "    <path class=\"displacy-arc\" id=\"arrow-349d169b3d4d4c889b7c8d4e5bee962d-0-11\" stroke-width=\"2px\" d=\"M2012,377.0 2012,352.0 2138.0,352.0 2138.0,377.0\" fill=\"none\" stroke=\"currentColor\"/>\n",
              "    <text dy=\"1.25em\" style=\"font-size: 0.8em; letter-spacing: 1px\">\n",
              "        <textPath xlink:href=\"#arrow-349d169b3d4d4c889b7c8d4e5bee962d-0-11\" class=\"displacy-label\" startOffset=\"50%\" side=\"left\" fill=\"currentColor\" text-anchor=\"middle\"></textPath>\n",
              "    </text>\n",
              "    <path class=\"displacy-arrowhead\" d=\"M2138.0,379.0 L2142.0,371.0 2134.0,371.0\" fill=\"currentColor\"/>\n",
              "</g>\n",
              "\n",
              "<g class=\"displacy-arrow\">\n",
              "    <path class=\"displacy-arc\" id=\"arrow-349d169b3d4d4c889b7c8d4e5bee962d-0-12\" stroke-width=\"2px\" d=\"M2312,377.0 2312,352.0 2438.0,352.0 2438.0,377.0\" fill=\"none\" stroke=\"currentColor\"/>\n",
              "    <text dy=\"1.25em\" style=\"font-size: 0.8em; letter-spacing: 1px\">\n",
              "        <textPath xlink:href=\"#arrow-349d169b3d4d4c889b7c8d4e5bee962d-0-12\" class=\"displacy-label\" startOffset=\"50%\" side=\"left\" fill=\"currentColor\" text-anchor=\"middle\">nsubj</textPath>\n",
              "    </text>\n",
              "    <path class=\"displacy-arrowhead\" d=\"M2312,379.0 L2308,371.0 2316,371.0\" fill=\"currentColor\"/>\n",
              "</g>\n",
              "\n",
              "<g class=\"displacy-arrow\">\n",
              "    <path class=\"displacy-arc\" id=\"arrow-349d169b3d4d4c889b7c8d4e5bee962d-0-13\" stroke-width=\"2px\" d=\"M2462,377.0 2462,352.0 2588.0,352.0 2588.0,377.0\" fill=\"none\" stroke=\"currentColor\"/>\n",
              "    <text dy=\"1.25em\" style=\"font-size: 0.8em; letter-spacing: 1px\">\n",
              "        <textPath xlink:href=\"#arrow-349d169b3d4d4c889b7c8d4e5bee962d-0-13\" class=\"displacy-label\" startOffset=\"50%\" side=\"left\" fill=\"currentColor\" text-anchor=\"middle\">prep</textPath>\n",
              "    </text>\n",
              "    <path class=\"displacy-arrowhead\" d=\"M2588.0,379.0 L2592.0,371.0 2584.0,371.0\" fill=\"currentColor\"/>\n",
              "</g>\n",
              "\n",
              "<g class=\"displacy-arrow\">\n",
              "    <path class=\"displacy-arc\" id=\"arrow-349d169b3d4d4c889b7c8d4e5bee962d-0-14\" stroke-width=\"2px\" d=\"M2762,377.0 2762,352.0 2888.0,352.0 2888.0,377.0\" fill=\"none\" stroke=\"currentColor\"/>\n",
              "    <text dy=\"1.25em\" style=\"font-size: 0.8em; letter-spacing: 1px\">\n",
              "        <textPath xlink:href=\"#arrow-349d169b3d4d4c889b7c8d4e5bee962d-0-14\" class=\"displacy-label\" startOffset=\"50%\" side=\"left\" fill=\"currentColor\" text-anchor=\"middle\">det</textPath>\n",
              "    </text>\n",
              "    <path class=\"displacy-arrowhead\" d=\"M2762,379.0 L2758,371.0 2766,371.0\" fill=\"currentColor\"/>\n",
              "</g>\n",
              "\n",
              "<g class=\"displacy-arrow\">\n",
              "    <path class=\"displacy-arc\" id=\"arrow-349d169b3d4d4c889b7c8d4e5bee962d-0-15\" stroke-width=\"2px\" d=\"M2612,377.0 2612,327.0 2891.0,327.0 2891.0,377.0\" fill=\"none\" stroke=\"currentColor\"/>\n",
              "    <text dy=\"1.25em\" style=\"font-size: 0.8em; letter-spacing: 1px\">\n",
              "        <textPath xlink:href=\"#arrow-349d169b3d4d4c889b7c8d4e5bee962d-0-15\" class=\"displacy-label\" startOffset=\"50%\" side=\"left\" fill=\"currentColor\" text-anchor=\"middle\">pobj</textPath>\n",
              "    </text>\n",
              "    <path class=\"displacy-arrowhead\" d=\"M2891.0,379.0 L2895.0,371.0 2887.0,371.0\" fill=\"currentColor\"/>\n",
              "</g>\n",
              "\n",
              "<g class=\"displacy-arrow\">\n",
              "    <path class=\"displacy-arc\" id=\"arrow-349d169b3d4d4c889b7c8d4e5bee962d-0-16\" stroke-width=\"2px\" d=\"M2912,377.0 2912,352.0 3038.0,352.0 3038.0,377.0\" fill=\"none\" stroke=\"currentColor\"/>\n",
              "    <text dy=\"1.25em\" style=\"font-size: 0.8em; letter-spacing: 1px\">\n",
              "        <textPath xlink:href=\"#arrow-349d169b3d4d4c889b7c8d4e5bee962d-0-16\" class=\"displacy-label\" startOffset=\"50%\" side=\"left\" fill=\"currentColor\" text-anchor=\"middle\">prep</textPath>\n",
              "    </text>\n",
              "    <path class=\"displacy-arrowhead\" d=\"M3038.0,379.0 L3042.0,371.0 3034.0,371.0\" fill=\"currentColor\"/>\n",
              "</g>\n",
              "\n",
              "<g class=\"displacy-arrow\">\n",
              "    <path class=\"displacy-arc\" id=\"arrow-349d169b3d4d4c889b7c8d4e5bee962d-0-17\" stroke-width=\"2px\" d=\"M3062,377.0 3062,352.0 3188.0,352.0 3188.0,377.0\" fill=\"none\" stroke=\"currentColor\"/>\n",
              "    <text dy=\"1.25em\" style=\"font-size: 0.8em; letter-spacing: 1px\">\n",
              "        <textPath xlink:href=\"#arrow-349d169b3d4d4c889b7c8d4e5bee962d-0-17\" class=\"displacy-label\" startOffset=\"50%\" side=\"left\" fill=\"currentColor\" text-anchor=\"middle\">pobj</textPath>\n",
              "    </text>\n",
              "    <path class=\"displacy-arrowhead\" d=\"M3188.0,379.0 L3192.0,371.0 3184.0,371.0\" fill=\"currentColor\"/>\n",
              "</g>\n",
              "\n",
              "<g class=\"displacy-arrow\">\n",
              "    <path class=\"displacy-arc\" id=\"arrow-349d169b3d4d4c889b7c8d4e5bee962d-0-18\" stroke-width=\"2px\" d=\"M2462,377.0 2462,252.0 3350.0,252.0 3350.0,377.0\" fill=\"none\" stroke=\"currentColor\"/>\n",
              "    <text dy=\"1.25em\" style=\"font-size: 0.8em; letter-spacing: 1px\">\n",
              "        <textPath xlink:href=\"#arrow-349d169b3d4d4c889b7c8d4e5bee962d-0-18\" class=\"displacy-label\" startOffset=\"50%\" side=\"left\" fill=\"currentColor\" text-anchor=\"middle\">prep</textPath>\n",
              "    </text>\n",
              "    <path class=\"displacy-arrowhead\" d=\"M3350.0,379.0 L3354.0,371.0 3346.0,371.0\" fill=\"currentColor\"/>\n",
              "</g>\n",
              "\n",
              "<g class=\"displacy-arrow\">\n",
              "    <path class=\"displacy-arc\" id=\"arrow-349d169b3d4d4c889b7c8d4e5bee962d-0-19\" stroke-width=\"2px\" d=\"M3512,377.0 3512,352.0 3638.0,352.0 3638.0,377.0\" fill=\"none\" stroke=\"currentColor\"/>\n",
              "    <text dy=\"1.25em\" style=\"font-size: 0.8em; letter-spacing: 1px\">\n",
              "        <textPath xlink:href=\"#arrow-349d169b3d4d4c889b7c8d4e5bee962d-0-19\" class=\"displacy-label\" startOffset=\"50%\" side=\"left\" fill=\"currentColor\" text-anchor=\"middle\">det</textPath>\n",
              "    </text>\n",
              "    <path class=\"displacy-arrowhead\" d=\"M3512,379.0 L3508,371.0 3516,371.0\" fill=\"currentColor\"/>\n",
              "</g>\n",
              "\n",
              "<g class=\"displacy-arrow\">\n",
              "    <path class=\"displacy-arc\" id=\"arrow-349d169b3d4d4c889b7c8d4e5bee962d-0-20\" stroke-width=\"2px\" d=\"M3362,377.0 3362,327.0 3641.0,327.0 3641.0,377.0\" fill=\"none\" stroke=\"currentColor\"/>\n",
              "    <text dy=\"1.25em\" style=\"font-size: 0.8em; letter-spacing: 1px\">\n",
              "        <textPath xlink:href=\"#arrow-349d169b3d4d4c889b7c8d4e5bee962d-0-20\" class=\"displacy-label\" startOffset=\"50%\" side=\"left\" fill=\"currentColor\" text-anchor=\"middle\">pobj</textPath>\n",
              "    </text>\n",
              "    <path class=\"displacy-arrowhead\" d=\"M3641.0,379.0 L3645.0,371.0 3637.0,371.0\" fill=\"currentColor\"/>\n",
              "</g>\n",
              "\n",
              "<g class=\"displacy-arrow\">\n",
              "    <path class=\"displacy-arc\" id=\"arrow-349d169b3d4d4c889b7c8d4e5bee962d-0-21\" stroke-width=\"2px\" d=\"M3962,377.0 3962,352.0 4088.0,352.0 4088.0,377.0\" fill=\"none\" stroke=\"currentColor\"/>\n",
              "    <text dy=\"1.25em\" style=\"font-size: 0.8em; letter-spacing: 1px\">\n",
              "        <textPath xlink:href=\"#arrow-349d169b3d4d4c889b7c8d4e5bee962d-0-21\" class=\"displacy-label\" startOffset=\"50%\" side=\"left\" fill=\"currentColor\" text-anchor=\"middle\">poss</textPath>\n",
              "    </text>\n",
              "    <path class=\"displacy-arrowhead\" d=\"M3962,379.0 L3958,371.0 3966,371.0\" fill=\"currentColor\"/>\n",
              "</g>\n",
              "\n",
              "<g class=\"displacy-arrow\">\n",
              "    <path class=\"displacy-arc\" id=\"arrow-349d169b3d4d4c889b7c8d4e5bee962d-0-22\" stroke-width=\"2px\" d=\"M3812,377.0 3812,327.0 4091.0,327.0 4091.0,377.0\" fill=\"none\" stroke=\"currentColor\"/>\n",
              "    <text dy=\"1.25em\" style=\"font-size: 0.8em; letter-spacing: 1px\">\n",
              "        <textPath xlink:href=\"#arrow-349d169b3d4d4c889b7c8d4e5bee962d-0-22\" class=\"displacy-label\" startOffset=\"50%\" side=\"left\" fill=\"currentColor\" text-anchor=\"middle\">dobj</textPath>\n",
              "    </text>\n",
              "    <path class=\"displacy-arrowhead\" d=\"M4091.0,379.0 L4095.0,371.0 4087.0,371.0\" fill=\"currentColor\"/>\n",
              "</g>\n",
              "\n",
              "<g class=\"displacy-arrow\">\n",
              "    <path class=\"displacy-arc\" id=\"arrow-349d169b3d4d4c889b7c8d4e5bee962d-0-23\" stroke-width=\"2px\" d=\"M3812,377.0 3812,302.0 4244.0,302.0 4244.0,377.0\" fill=\"none\" stroke=\"currentColor\"/>\n",
              "    <text dy=\"1.25em\" style=\"font-size: 0.8em; letter-spacing: 1px\">\n",
              "        <textPath xlink:href=\"#arrow-349d169b3d4d4c889b7c8d4e5bee962d-0-23\" class=\"displacy-label\" startOffset=\"50%\" side=\"left\" fill=\"currentColor\" text-anchor=\"middle\">advmod</textPath>\n",
              "    </text>\n",
              "    <path class=\"displacy-arrowhead\" d=\"M4244.0,379.0 L4248.0,371.0 4240.0,371.0\" fill=\"currentColor\"/>\n",
              "</g>\n",
              "\n",
              "<g class=\"displacy-arrow\">\n",
              "    <path class=\"displacy-arc\" id=\"arrow-349d169b3d4d4c889b7c8d4e5bee962d-0-24\" stroke-width=\"2px\" d=\"M4262,377.0 4262,352.0 4388.0,352.0 4388.0,377.0\" fill=\"none\" stroke=\"currentColor\"/>\n",
              "    <text dy=\"1.25em\" style=\"font-size: 0.8em; letter-spacing: 1px\">\n",
              "        <textPath xlink:href=\"#arrow-349d169b3d4d4c889b7c8d4e5bee962d-0-24\" class=\"displacy-label\" startOffset=\"50%\" side=\"left\" fill=\"currentColor\" text-anchor=\"middle\"></textPath>\n",
              "    </text>\n",
              "    <path class=\"displacy-arrowhead\" d=\"M4388.0,379.0 L4392.0,371.0 4384.0,371.0\" fill=\"currentColor\"/>\n",
              "</g>\n",
              "\n",
              "<g class=\"displacy-arrow\">\n",
              "    <path class=\"displacy-arc\" id=\"arrow-349d169b3d4d4c889b7c8d4e5bee962d-0-25\" stroke-width=\"2px\" d=\"M4562,377.0 4562,352.0 4688.0,352.0 4688.0,377.0\" fill=\"none\" stroke=\"currentColor\"/>\n",
              "    <text dy=\"1.25em\" style=\"font-size: 0.8em; letter-spacing: 1px\">\n",
              "        <textPath xlink:href=\"#arrow-349d169b3d4d4c889b7c8d4e5bee962d-0-25\" class=\"displacy-label\" startOffset=\"50%\" side=\"left\" fill=\"currentColor\" text-anchor=\"middle\">nsubj</textPath>\n",
              "    </text>\n",
              "    <path class=\"displacy-arrowhead\" d=\"M4562,379.0 L4558,371.0 4566,371.0\" fill=\"currentColor\"/>\n",
              "</g>\n",
              "\n",
              "<g class=\"displacy-arrow\">\n",
              "    <path class=\"displacy-arc\" id=\"arrow-349d169b3d4d4c889b7c8d4e5bee962d-0-26\" stroke-width=\"2px\" d=\"M4862,377.0 4862,352.0 4988.0,352.0 4988.0,377.0\" fill=\"none\" stroke=\"currentColor\"/>\n",
              "    <text dy=\"1.25em\" style=\"font-size: 0.8em; letter-spacing: 1px\">\n",
              "        <textPath xlink:href=\"#arrow-349d169b3d4d4c889b7c8d4e5bee962d-0-26\" class=\"displacy-label\" startOffset=\"50%\" side=\"left\" fill=\"currentColor\" text-anchor=\"middle\">poss</textPath>\n",
              "    </text>\n",
              "    <path class=\"displacy-arrowhead\" d=\"M4862,379.0 L4858,371.0 4866,371.0\" fill=\"currentColor\"/>\n",
              "</g>\n",
              "\n",
              "<g class=\"displacy-arrow\">\n",
              "    <path class=\"displacy-arc\" id=\"arrow-349d169b3d4d4c889b7c8d4e5bee962d-0-27\" stroke-width=\"2px\" d=\"M4712,377.0 4712,327.0 4991.0,327.0 4991.0,377.0\" fill=\"none\" stroke=\"currentColor\"/>\n",
              "    <text dy=\"1.25em\" style=\"font-size: 0.8em; letter-spacing: 1px\">\n",
              "        <textPath xlink:href=\"#arrow-349d169b3d4d4c889b7c8d4e5bee962d-0-27\" class=\"displacy-label\" startOffset=\"50%\" side=\"left\" fill=\"currentColor\" text-anchor=\"middle\">dobj</textPath>\n",
              "    </text>\n",
              "    <path class=\"displacy-arrowhead\" d=\"M4991.0,379.0 L4995.0,371.0 4987.0,371.0\" fill=\"currentColor\"/>\n",
              "</g>\n",
              "\n",
              "<g class=\"displacy-arrow\">\n",
              "    <path class=\"displacy-arc\" id=\"arrow-349d169b3d4d4c889b7c8d4e5bee962d-0-28\" stroke-width=\"2px\" d=\"M4712,377.0 4712,302.0 5144.0,302.0 5144.0,377.0\" fill=\"none\" stroke=\"currentColor\"/>\n",
              "    <text dy=\"1.25em\" style=\"font-size: 0.8em; letter-spacing: 1px\">\n",
              "        <textPath xlink:href=\"#arrow-349d169b3d4d4c889b7c8d4e5bee962d-0-28\" class=\"displacy-label\" startOffset=\"50%\" side=\"left\" fill=\"currentColor\" text-anchor=\"middle\">prep</textPath>\n",
              "    </text>\n",
              "    <path class=\"displacy-arrowhead\" d=\"M5144.0,379.0 L5148.0,371.0 5140.0,371.0\" fill=\"currentColor\"/>\n",
              "</g>\n",
              "\n",
              "<g class=\"displacy-arrow\">\n",
              "    <path class=\"displacy-arc\" id=\"arrow-349d169b3d4d4c889b7c8d4e5bee962d-0-29\" stroke-width=\"2px\" d=\"M5162,377.0 5162,352.0 5288.0,352.0 5288.0,377.0\" fill=\"none\" stroke=\"currentColor\"/>\n",
              "    <text dy=\"1.25em\" style=\"font-size: 0.8em; letter-spacing: 1px\">\n",
              "        <textPath xlink:href=\"#arrow-349d169b3d4d4c889b7c8d4e5bee962d-0-29\" class=\"displacy-label\" startOffset=\"50%\" side=\"left\" fill=\"currentColor\" text-anchor=\"middle\">pobj</textPath>\n",
              "    </text>\n",
              "    <path class=\"displacy-arrowhead\" d=\"M5288.0,379.0 L5292.0,371.0 5284.0,371.0\" fill=\"currentColor\"/>\n",
              "</g>\n",
              "\n",
              "<g class=\"displacy-arrow\">\n",
              "    <path class=\"displacy-arc\" id=\"arrow-349d169b3d4d4c889b7c8d4e5bee962d-0-30\" stroke-width=\"2px\" d=\"M4712,377.0 4712,277.0 5447.0,277.0 5447.0,377.0\" fill=\"none\" stroke=\"currentColor\"/>\n",
              "    <text dy=\"1.25em\" style=\"font-size: 0.8em; letter-spacing: 1px\">\n",
              "        <textPath xlink:href=\"#arrow-349d169b3d4d4c889b7c8d4e5bee962d-0-30\" class=\"displacy-label\" startOffset=\"50%\" side=\"left\" fill=\"currentColor\" text-anchor=\"middle\">advmod</textPath>\n",
              "    </text>\n",
              "    <path class=\"displacy-arrowhead\" d=\"M5447.0,379.0 L5451.0,371.0 5443.0,371.0\" fill=\"currentColor\"/>\n",
              "</g>\n",
              "\n",
              "<g class=\"displacy-arrow\">\n",
              "    <path class=\"displacy-arc\" id=\"arrow-349d169b3d4d4c889b7c8d4e5bee962d-0-31\" stroke-width=\"2px\" d=\"M5612,377.0 5612,302.0 6044.0,302.0 6044.0,377.0\" fill=\"none\" stroke=\"currentColor\"/>\n",
              "    <text dy=\"1.25em\" style=\"font-size: 0.8em; letter-spacing: 1px\">\n",
              "        <textPath xlink:href=\"#arrow-349d169b3d4d4c889b7c8d4e5bee962d-0-31\" class=\"displacy-label\" startOffset=\"50%\" side=\"left\" fill=\"currentColor\" text-anchor=\"middle\">predet</textPath>\n",
              "    </text>\n",
              "    <path class=\"displacy-arrowhead\" d=\"M5612,379.0 L5608,371.0 5616,371.0\" fill=\"currentColor\"/>\n",
              "</g>\n",
              "\n",
              "<g class=\"displacy-arrow\">\n",
              "    <path class=\"displacy-arc\" id=\"arrow-349d169b3d4d4c889b7c8d4e5bee962d-0-32\" stroke-width=\"2px\" d=\"M5762,377.0 5762,327.0 6041.0,327.0 6041.0,377.0\" fill=\"none\" stroke=\"currentColor\"/>\n",
              "    <text dy=\"1.25em\" style=\"font-size: 0.8em; letter-spacing: 1px\">\n",
              "        <textPath xlink:href=\"#arrow-349d169b3d4d4c889b7c8d4e5bee962d-0-32\" class=\"displacy-label\" startOffset=\"50%\" side=\"left\" fill=\"currentColor\" text-anchor=\"middle\">det</textPath>\n",
              "    </text>\n",
              "    <path class=\"displacy-arrowhead\" d=\"M5762,379.0 L5758,371.0 5766,371.0\" fill=\"currentColor\"/>\n",
              "</g>\n",
              "\n",
              "<g class=\"displacy-arrow\">\n",
              "    <path class=\"displacy-arc\" id=\"arrow-349d169b3d4d4c889b7c8d4e5bee962d-0-33\" stroke-width=\"2px\" d=\"M5912,377.0 5912,352.0 6038.0,352.0 6038.0,377.0\" fill=\"none\" stroke=\"currentColor\"/>\n",
              "    <text dy=\"1.25em\" style=\"font-size: 0.8em; letter-spacing: 1px\">\n",
              "        <textPath xlink:href=\"#arrow-349d169b3d4d4c889b7c8d4e5bee962d-0-33\" class=\"displacy-label\" startOffset=\"50%\" side=\"left\" fill=\"currentColor\" text-anchor=\"middle\">amod</textPath>\n",
              "    </text>\n",
              "    <path class=\"displacy-arrowhead\" d=\"M5912,379.0 L5908,371.0 5916,371.0\" fill=\"currentColor\"/>\n",
              "</g>\n",
              "</svg>"
            ],
            "text/plain": [
              "<IPython.core.display.HTML object>"
            ]
          },
          "metadata": {
            "tags": []
          }
        }
      ]
    },
    {
      "cell_type": "code",
      "metadata": {
        "id": "MLDQDhoFeGy4",
        "colab_type": "code",
        "colab": {}
      },
      "source": [
        "svg = displacy.render(docfile, style = 'dep', options = options, jupyter = False)\n",
        "with open('/gdrive/My Drive/CIS_508/Colab Notebooks/NER/Dependency.svg', 'w', encoding = 'utf-8') as f:\n",
        "  f.write(svg)"
      ],
      "execution_count": 0,
      "outputs": []
    },
    {
      "cell_type": "markdown",
      "metadata": {
        "id": "SB40Nx_riS0o",
        "colab_type": "text"
      },
      "source": [
        "# **Semantic Similarity**\n",
        "\n",
        "Use case: Recommendation systems"
      ]
    },
    {
      "cell_type": "code",
      "metadata": {
        "id": "iTt9QaHweG5Z",
        "colab_type": "code",
        "colab": {}
      },
      "source": [
        "dog = nlp(\"dog\")\n",
        "wolf = nlp(\"wolf\")\n",
        "elephant = nlp(\"elephant\")\n",
        "cat = nlp(\"cat\")"
      ],
      "execution_count": 0,
      "outputs": []
    },
    {
      "cell_type": "code",
      "metadata": {
        "id": "bo7SjozIiSLY",
        "colab_type": "code",
        "outputId": "122ab031-6ccd-467e-a254-b43cc33204e0",
        "colab": {
          "base_uri": "https://localhost:8080/"
        }
      },
      "source": [
        "dog.similarity(cat)  #higher the value more the similarity"
      ],
      "execution_count": 0,
      "outputs": [
        {
          "output_type": "execute_result",
          "data": {
            "text/plain": [
              "0.7952184229586672"
            ]
          },
          "metadata": {
            "tags": []
          },
          "execution_count": 228
        }
      ]
    },
    {
      "cell_type": "code",
      "metadata": {
        "id": "sMaaSH3YiSOM",
        "colab_type": "code",
        "outputId": "561f8a4a-fdd6-4845-c706-6f04044c16c3",
        "colab": {
          "base_uri": "https://localhost:8080/"
        }
      },
      "source": [
        "dog.similarity(wolf)"
      ],
      "execution_count": 0,
      "outputs": [
        {
          "output_type": "execute_result",
          "data": {
            "text/plain": [
              "0.741333528369026"
            ]
          },
          "metadata": {
            "tags": []
          },
          "execution_count": 229
        }
      ]
    },
    {
      "cell_type": "code",
      "metadata": {
        "id": "IEkpoLy6iSVk",
        "colab_type": "code",
        "outputId": "0c3f436b-68f2-4edd-9fa7-a59ad8fa91ac",
        "colab": {
          "base_uri": "https://localhost:8080/"
        }
      },
      "source": [
        "dog.similarity(elephant)"
      ],
      "execution_count": 0,
      "outputs": [
        {
          "output_type": "execute_result",
          "data": {
            "text/plain": [
              "0.5863402738723138"
            ]
          },
          "metadata": {
            "tags": []
          },
          "execution_count": 230
        }
      ]
    },
    {
      "cell_type": "code",
      "metadata": {
        "id": "YnrDj2mRiSRA",
        "colab_type": "code",
        "colab": {}
      },
      "source": [
        "smart = nlp(\"smart\")\n",
        "clever = nlp(\"clever\")\n",
        "foolish = nlp(\"foolish\")"
      ],
      "execution_count": 0,
      "outputs": []
    },
    {
      "cell_type": "code",
      "metadata": {
        "id": "6u4vIbjmeG2a",
        "colab_type": "code",
        "outputId": "a2cf3853-2552-4e64-a606-cee6b3a30d09",
        "colab": {
          "base_uri": "https://localhost:8080/"
        }
      },
      "source": [
        "smart.similarity(clever)"
      ],
      "execution_count": 0,
      "outputs": [
        {
          "output_type": "execute_result",
          "data": {
            "text/plain": [
              "0.5818587817189651"
            ]
          },
          "metadata": {
            "tags": []
          },
          "execution_count": 232
        }
      ]
    },
    {
      "cell_type": "code",
      "metadata": {
        "id": "zRoqb5ExaKKN",
        "colab_type": "code",
        "outputId": "4b2bee23-fe92-49c6-e3de-7b0c8b198fbf",
        "colab": {
          "base_uri": "https://localhost:8080/"
        }
      },
      "source": [
        "clever.similarity(foolish)  #weirdly clever and foolish are more similar than smart and clever."
      ],
      "execution_count": 0,
      "outputs": [
        {
          "output_type": "execute_result",
          "data": {
            "text/plain": [
              "0.6669069355583049"
            ]
          },
          "metadata": {
            "tags": []
          },
          "execution_count": 233
        }
      ]
    },
    {
      "cell_type": "code",
      "metadata": {
        "id": "ug7K1mClnj_h",
        "colab_type": "code",
        "outputId": "dfe42550-0095-4da5-b92f-7f194fdda4fc",
        "colab": {
          "base_uri": "https://localhost:8080/"
        }
      },
      "source": [
        "data = nlp(\"mom dad cat dog\")\n",
        "for i in data:\n",
        "  for j in data:\n",
        "    print((i, j, i.similarity(j)))"
      ],
      "execution_count": 0,
      "outputs": [
        {
          "output_type": "stream",
          "text": [
            "(mom, mom, 1.0)\n",
            "(mom, dad, 0.6097823)\n",
            "(mom, cat, 0.60294944)\n",
            "(mom, dog, 0.45455447)\n",
            "(dad, mom, 0.6097823)\n",
            "(dad, dad, 1.0)\n",
            "(dad, cat, 0.62087435)\n",
            "(dad, dog, 0.5143671)\n",
            "(cat, mom, 0.60294944)\n",
            "(cat, dad, 0.62087435)\n",
            "(cat, cat, 1.0)\n",
            "(cat, dog, 0.62753606)\n",
            "(dog, mom, 0.45455447)\n",
            "(dog, dad, 0.5143671)\n",
            "(dog, cat, 0.62753606)\n",
            "(dog, dog, 1.0)\n"
          ],
          "name": "stdout"
        }
      ]
    },
    {
      "cell_type": "code",
      "metadata": {
        "id": "AgVh0hQ6vKfw",
        "colab_type": "code",
        "outputId": "31956c61-0475-4653-9827-cc57b6546b1a",
        "colab": {
          "base_uri": "https://localhost:8080/"
        }
      },
      "source": [
        "data_sim = [(i.text, j.text, i.similarity(j)) for j in data for i in data]\n",
        "type(data_sim[0][0])"
      ],
      "execution_count": 0,
      "outputs": [
        {
          "output_type": "execute_result",
          "data": {
            "text/plain": [
              "str"
            ]
          },
          "metadata": {
            "tags": []
          },
          "execution_count": 276
        }
      ]
    },
    {
      "cell_type": "code",
      "metadata": {
        "id": "gMFqKRDrnkCN",
        "colab_type": "code",
        "outputId": "ad8f8f9f-1aaf-4ee9-bc51-46634a374db9",
        "colab": {
          "base_uri": "https://localhost:8080/"
        }
      },
      "source": [
        "df = pd.DataFrame(data_sim, columns = ['Token 1', 'Token 2', 'Similarity'])\n",
        "type(df['Token 1'][0])"
      ],
      "execution_count": 0,
      "outputs": [
        {
          "output_type": "execute_result",
          "data": {
            "text/plain": [
              "str"
            ]
          },
          "metadata": {
            "tags": []
          },
          "execution_count": 281
        }
      ]
    },
    {
      "cell_type": "code",
      "metadata": {
        "id": "dqeJ8xXXvm3h",
        "colab_type": "code",
        "outputId": "c68369e8-6939-4318-a6c8-2930218ef66b",
        "colab": {
          "base_uri": "https://localhost:8080/"
        }
      },
      "source": [
        "df_viz = df.replace({'mom':0, 'dad':1, 'cat':2, 'dog':3})\n",
        "df_viz"
      ],
      "execution_count": 0,
      "outputs": [
        {
          "output_type": "execute_result",
          "data": {
            "text/html": [
              "<div>\n",
              "<style scoped>\n",
              "    .dataframe tbody tr th:only-of-type {\n",
              "        vertical-align: middle;\n",
              "    }\n",
              "\n",
              "    .dataframe tbody tr th {\n",
              "        vertical-align: top;\n",
              "    }\n",
              "\n",
              "    .dataframe thead th {\n",
              "        text-align: right;\n",
              "    }\n",
              "</style>\n",
              "<table border=\"1\" class=\"dataframe\">\n",
              "  <thead>\n",
              "    <tr style=\"text-align: right;\">\n",
              "      <th></th>\n",
              "      <th>Token 1</th>\n",
              "      <th>Token 2</th>\n",
              "      <th>Similarity</th>\n",
              "    </tr>\n",
              "  </thead>\n",
              "  <tbody>\n",
              "    <tr>\n",
              "      <th>0</th>\n",
              "      <td>0</td>\n",
              "      <td>0</td>\n",
              "      <td>1.000000</td>\n",
              "    </tr>\n",
              "    <tr>\n",
              "      <th>1</th>\n",
              "      <td>1</td>\n",
              "      <td>0</td>\n",
              "      <td>0.609782</td>\n",
              "    </tr>\n",
              "    <tr>\n",
              "      <th>2</th>\n",
              "      <td>2</td>\n",
              "      <td>0</td>\n",
              "      <td>0.602949</td>\n",
              "    </tr>\n",
              "    <tr>\n",
              "      <th>3</th>\n",
              "      <td>3</td>\n",
              "      <td>0</td>\n",
              "      <td>0.454554</td>\n",
              "    </tr>\n",
              "    <tr>\n",
              "      <th>4</th>\n",
              "      <td>0</td>\n",
              "      <td>1</td>\n",
              "      <td>0.609782</td>\n",
              "    </tr>\n",
              "    <tr>\n",
              "      <th>5</th>\n",
              "      <td>1</td>\n",
              "      <td>1</td>\n",
              "      <td>1.000000</td>\n",
              "    </tr>\n",
              "    <tr>\n",
              "      <th>6</th>\n",
              "      <td>2</td>\n",
              "      <td>1</td>\n",
              "      <td>0.620874</td>\n",
              "    </tr>\n",
              "    <tr>\n",
              "      <th>7</th>\n",
              "      <td>3</td>\n",
              "      <td>1</td>\n",
              "      <td>0.514367</td>\n",
              "    </tr>\n",
              "    <tr>\n",
              "      <th>8</th>\n",
              "      <td>0</td>\n",
              "      <td>2</td>\n",
              "      <td>0.602949</td>\n",
              "    </tr>\n",
              "    <tr>\n",
              "      <th>9</th>\n",
              "      <td>1</td>\n",
              "      <td>2</td>\n",
              "      <td>0.620874</td>\n",
              "    </tr>\n",
              "    <tr>\n",
              "      <th>10</th>\n",
              "      <td>2</td>\n",
              "      <td>2</td>\n",
              "      <td>1.000000</td>\n",
              "    </tr>\n",
              "    <tr>\n",
              "      <th>11</th>\n",
              "      <td>3</td>\n",
              "      <td>2</td>\n",
              "      <td>0.627536</td>\n",
              "    </tr>\n",
              "    <tr>\n",
              "      <th>12</th>\n",
              "      <td>0</td>\n",
              "      <td>3</td>\n",
              "      <td>0.454554</td>\n",
              "    </tr>\n",
              "    <tr>\n",
              "      <th>13</th>\n",
              "      <td>1</td>\n",
              "      <td>3</td>\n",
              "      <td>0.514367</td>\n",
              "    </tr>\n",
              "    <tr>\n",
              "      <th>14</th>\n",
              "      <td>2</td>\n",
              "      <td>3</td>\n",
              "      <td>0.627536</td>\n",
              "    </tr>\n",
              "    <tr>\n",
              "      <th>15</th>\n",
              "      <td>3</td>\n",
              "      <td>3</td>\n",
              "      <td>1.000000</td>\n",
              "    </tr>\n",
              "  </tbody>\n",
              "</table>\n",
              "</div>"
            ],
            "text/plain": [
              "    Token 1  Token 2  Similarity\n",
              "0         0        0    1.000000\n",
              "1         1        0    0.609782\n",
              "2         2        0    0.602949\n",
              "3         3        0    0.454554\n",
              "4         0        1    0.609782\n",
              "5         1        1    1.000000\n",
              "6         2        1    0.620874\n",
              "7         3        1    0.514367\n",
              "8         0        2    0.602949\n",
              "9         1        2    0.620874\n",
              "10        2        2    1.000000\n",
              "11        3        2    0.627536\n",
              "12        0        3    0.454554\n",
              "13        1        3    0.514367\n",
              "14        2        3    0.627536\n",
              "15        3        3    1.000000"
            ]
          },
          "metadata": {
            "tags": []
          },
          "execution_count": 284
        }
      ]
    },
    {
      "cell_type": "code",
      "metadata": {
        "id": "uO0erp1hnkEm",
        "colab_type": "code",
        "outputId": "24344aaa-b0c0-4765-f218-26a1aa1b9785",
        "colab": {
          "base_uri": "https://localhost:8080/"
        }
      },
      "source": [
        "fig, ax = plt.subplots()\n",
        "sns.heatmap(df_viz.corr(), annot = True)\n",
        "plt.show()\n",
        "#this makes no sense to me"
      ],
      "execution_count": 0,
      "outputs": [
        {
          "output_type": "display_data",
          "data": {
            "image/png": "[encoded data removed]",
            "text/plain": [
              "<Figure size 432x288 with 2 Axes>"
            ]
          },
          "metadata": {
            "tags": []
          }
        }
      ]
    },
    {
      "cell_type": "code",
      "metadata": {
        "id": "kd60GHf8xwrf",
        "colab_type": "code",
        "outputId": "7d497abd-0f23-4a17-a0aa-2dae72fa980d",
        "colab": {
          "base_uri": "https://localhost:8080/"
        }
      },
      "source": [
        "fig, ax = plt.subplots()\n",
        "sns.heatmap(df_viz, annot = True)\n",
        "plt.show()"
      ],
      "execution_count": 0,
      "outputs": [
        {
          "output_type": "display_data",
          "data": {
            "image/png": "[encoded data removed]",
            "text/plain": [
              "<Figure size 432x288 with 2 Axes>"
            ]
          },
          "metadata": {
            "tags": []
          }
        }
      ]
    },
    {
      "cell_type": "markdown",
      "metadata": {
        "id": "WqAm5_ddx-Bv",
        "colab_type": "text"
      },
      "source": [
        "# **StopWords Processing**"
      ]
    },
    {
      "cell_type": "code",
      "metadata": {
        "id": "1i6tznZ2x9Bj",
        "colab_type": "code",
        "outputId": "4e822b0a-9fa3-4f4d-bdf7-6c1909906f95",
        "colab": {
          "base_uri": "https://localhost:8080/"
        }
      },
      "source": [
        "print(STOP_WORDS)"
      ],
      "execution_count": 0,
      "outputs": [
        {
          "output_type": "stream",
          "text": [
            "{'himself', 'much', 'nobody', 'again', 'as', 'either', 'perhaps', 'whither', 'without', 'never', 'everyone', 'toward', 'are', 'go', 'can', 'mine', 'hereafter', 'she', 'yours', 'n’t', 'third', 'everything', 'upon', 'just', 'somewhere', 'show', 'until', '‘s', 'unless', 'has', 'am', 'seems', \"'s\", 'been', 'below', 'forty', 'very', 'no', 'whoever', 'eleven', '‘m', 'name', 'down', 'other', 'keep', 'us', 'amongst', 'throughout', 'with', 'top', 'anywhere', 'almost', 'yourselves', 'towards', 'call', 'above', 'that', 'from', 'not', 'of', 're', 'even', 'sometime', 'than', 'elsewhere', 'those', 'nevertheless', 'wherein', \"'re\", 'seeming', 'when', 'thereupon', 'your', 'sixty', 'was', 'they', 'over', 'may', 'latterly', 'off', 'various', 'take', 'back', 'alone', 'enough', 'full', 'out', 'their', 'across', 'themselves', 'during', \"'d\", 'n‘t', 'is', 'all', 'except', 'made', 'still', 'to', 'four', 'must', 'through', 'might', 'always', '’ve', \"n't\", '‘re', 'anyone', 'ever', 'an', 'everywhere', 'hence', 'him', 'none', 'the', 'under', 'whereas', 'mostly', 'one', 'then', 'were', 'six', 'something', 'around', 'therein', 'there', 'meanwhile', 'anyway', 'becoming', 'and', 'besides', 'became', 'did', 'had', 'nowhere', 'before', 'others', 'whereupon', 'i', 'same', 'whom', 'by', 'regarding', 'rather', 'about', 'itself', 'anything', 'have', 'or', 'own', 'via', 'afterwards', 'another', 'a', 'does', 'whenever', 'quite', 'some', 'first', 'amount', 'nine', 'our', 'please', 'side', 'ten', 'why', 'twelve', 'yourself', 'if', 'put', 'whose', 'well', '’s', 'how', 'anyhow', 'using', 'my', 'where', 'already', 'do', 'whereafter', 'doing', 'every', 'myself', 'make', '’m', 'for', 'several', '‘ve', 'her', 'yet', 'empty', 'formerly', 'now', 'against', 'nor', 'you', 'done', '‘d', 'beside', 'noone', 'ours', 'these', 'moreover', 'next', 'thence', 'though', 'hundred', 'who', '’d', 'onto', 'hers', 'become', 'move', 'thus', 'part', 'would', 'being', 'however', 'could', 'neither', 'nothing', 'two', 'in', \"'ve\", 'bottom', 'at', 'see', \"'m\", 'thereafter', 'he', 'really', 'such', 'thereby', 'here', 'herself', 'although', 'otherwise', 'therefore', 'becomes', 'get', 'because', 'after', 'say', 'hereby', 'any', 'so', 'used', 'whereby', 'fifteen', 'be', 'on', 'too', 'whole', 'few', 'latter', 'sometimes', 'within', 'will', 'more', 'cannot', 'eight', '‘ll', 'due', 'beyond', 'three', 'ourselves', 'less', 'also', 'while', '’ll', 'behind', 'them', 'its', 'thru', 'front', 'only', 'together', \"'ll\", 'this', 'seem', 'beforehand', 'should', 'along', 'herein', 'into', 'per', 'many', 'often', 'somehow', 'someone', 'whence', 'what', 'we', 'whether', 'least', 'up', 'hereupon', 'but', 'his', 'between', 'once', 'since', 'twenty', 'whatever', '’re', 'among', 'five', 'give', 'each', 'fifty', 'ca', 'namely', 'serious', 'which', 'last', 'me', 'most', 'it', 'former', 'indeed', 'wherever', 'further', 'seemed', 'else', 'both'}\n"
          ],
          "name": "stdout"
        }
      ]
    },
    {
      "cell_type": "code",
      "metadata": {
        "id": "c0-kp7OVx9Gt",
        "colab_type": "code",
        "outputId": "4c189ca1-61fb-47f5-929e-a40b47ca9a8c",
        "colab": {
          "base_uri": "https://localhost:8080/"
        }
      },
      "source": [
        "for word in docx:\n",
        "  print(word.text, word.is_stop)"
      ],
      "execution_count": 0,
      "outputs": [
        {
          "output_type": "stream",
          "text": [
            "SpaCY False\n",
            "is True\n",
            "a True\n",
            "cool False\n",
            "tool False\n"
          ],
          "name": "stdout"
        }
      ]
    },
    {
      "cell_type": "code",
      "metadata": {
        "id": "VDFnOtcfx9JG",
        "colab_type": "code",
        "outputId": "00ee34f9-138c-4f47-862e-7cfacb6a17a4",
        "colab": {
          "base_uri": "https://localhost:8080/"
        }
      },
      "source": [
        "nlp.vocab[\"Hamburger\"].is_stop"
      ],
      "execution_count": 0,
      "outputs": [
        {
          "output_type": "execute_result",
          "data": {
            "text/plain": [
              "False"
            ]
          },
          "metadata": {
            "tags": []
          },
          "execution_count": 303
        }
      ]
    },
    {
      "cell_type": "code",
      "metadata": {
        "id": "tFHy2d0Kx9NO",
        "colab_type": "code",
        "outputId": "c152174f-54e2-489b-c39e-cae323ce54b1",
        "colab": {
          "base_uri": "https://localhost:8080/"
        }
      },
      "source": [
        "for word in docx:\n",
        "  if word.is_stop:\n",
        "    print(word.text)"
      ],
      "execution_count": 0,
      "outputs": [
        {
          "output_type": "stream",
          "text": [
            "is\n",
            "a\n"
          ],
          "name": "stdout"
        }
      ]
    },
    {
      "cell_type": "code",
      "metadata": {
        "id": "NW-8bNStx9R0",
        "colab_type": "code",
        "outputId": "ac26e396-1322-41dc-e96c-8b71260092f1",
        "colab": {
          "base_uri": "https://localhost:8080/"
        }
      },
      "source": [
        "non_stop_words = [ word for word in docx if word.is_stop == False]\n",
        "non_stop_words"
      ],
      "execution_count": 0,
      "outputs": [
        {
          "output_type": "execute_result",
          "data": {
            "text/plain": [
              "[SpaCY, cool, tool]"
            ]
          },
          "metadata": {
            "tags": []
          },
          "execution_count": 307
        }
      ]
    },
    {
      "cell_type": "code",
      "metadata": {
        "id": "zVl-KWy1x9Ya",
        "colab_type": "code",
        "outputId": "bcc89f94-4d56-41f6-e7eb-9d5868f87d69",
        "colab": {
          "base_uri": "https://localhost:8080/"
        }
      },
      "source": [
        "lol = nlp(\"lol\")\n",
        "for word in lol:\n",
        "  print(word.is_stop)"
      ],
      "execution_count": 0,
      "outputs": [
        {
          "output_type": "stream",
          "text": [
            "False\n"
          ],
          "name": "stdout"
        }
      ]
    },
    {
      "cell_type": "markdown",
      "metadata": {
        "id": "05usXAgB09Xd",
        "colab_type": "text"
      },
      "source": [
        "Add new stop words to the list"
      ]
    },
    {
      "cell_type": "code",
      "metadata": {
        "id": "8k5I3eJ43eMp",
        "colab_type": "code",
        "outputId": "40a3e1ce-f331-4755-ff1b-1ac7cda20521",
        "colab": {
          "base_uri": "https://localhost:8080/"
        }
      },
      "source": [
        "#In normal spacy vocabulary for enlish language London and cousins are not stop_words\n",
        "for word in docfile:\n",
        "  if word.is_stop:\n",
        "    print((word.text, word.is_stop))"
      ],
      "execution_count": 0,
      "outputs": [
        {
          "output_type": "stream",
          "text": [
            "('there', True)\n",
            "('what', True)\n",
            "(\"'s\", True)\n",
            "('up', True)\n",
            "('with', True)\n",
            "('you', True)\n",
            "('I', True)\n",
            "('am', True)\n",
            "('How', True)\n",
            "('are', True)\n",
            "('you', True)\n",
            "('I', True)\n",
            "('on', True)\n",
            "('a', True)\n",
            "('to', True)\n",
            "('for', True)\n",
            "('the', True)\n",
            "('my', True)\n",
            "('there', True)\n",
            "('I', True)\n",
            "('my', True)\n",
            "('in', True)\n",
            "('too', True)\n",
            "('Such', True)\n",
            "('a', True)\n"
          ],
          "name": "stdout"
        }
      ]
    },
    {
      "cell_type": "code",
      "metadata": {
        "id": "gtAO8oDbx9Uu",
        "colab_type": "code",
        "colab": {}
      },
      "source": [
        "custom_stop_words = [\"London\", \"cousins\"] "
      ],
      "execution_count": 0,
      "outputs": []
    },
    {
      "cell_type": "code",
      "metadata": {
        "id": "Ra06SB-o3s0W",
        "colab_type": "code",
        "colab": {}
      },
      "source": [
        "#we have manually over-written the is_stop for those custom stop words\n",
        "for word in custom_stop_words:\n",
        "  nlp.vocab[word].is_stop = True"
      ],
      "execution_count": 0,
      "outputs": []
    },
    {
      "cell_type": "code",
      "metadata": {
        "id": "9vtvByYWx9L5",
        "colab_type": "code",
        "outputId": "d6501486-b97e-48fe-c422-13ccf3a53a80",
        "colab": {
          "base_uri": "https://localhost:8080/"
        }
      },
      "source": [
        "#now London and cousins appear in the stop words list\n",
        "for word in docfile:\n",
        "  if word.is_stop:\n",
        "    print((word.text, word.is_stop))"
      ],
      "execution_count": 0,
      "outputs": [
        {
          "output_type": "stream",
          "text": [
            "('there', True)\n",
            "('what', True)\n",
            "(\"'s\", True)\n",
            "('up', True)\n",
            "('with', True)\n",
            "('you', True)\n",
            "('I', True)\n",
            "('am', True)\n",
            "('How', True)\n",
            "('are', True)\n",
            "('you', True)\n",
            "('I', True)\n",
            "('on', True)\n",
            "('a', True)\n",
            "('to', True)\n",
            "('London', True)\n",
            "('for', True)\n",
            "('the', True)\n",
            "('my', True)\n",
            "('there', True)\n",
            "('I', True)\n",
            "('my', True)\n",
            "('cousins', True)\n",
            "('in', True)\n",
            "('London', True)\n",
            "('too', True)\n",
            "('Such', True)\n",
            "('a', True)\n"
          ],
          "name": "stdout"
        }
      ]
    },
    {
      "cell_type": "code",
      "metadata": {
        "id": "9OO6QOD-x9FU",
        "colab_type": "code",
        "colab": {}
      },
      "source": [
        "#reset London and cousins back\n",
        "for word in custom_stop_words:\n",
        "  nlp.vocab[word].is_stop = False"
      ],
      "execution_count": 0,
      "outputs": []
    },
    {
      "cell_type": "markdown",
      "metadata": {
        "id": "i-eoStWU5quE",
        "colab_type": "text"
      },
      "source": [
        "# **Noun Chunks**"
      ]
    },
    {
      "cell_type": "code",
      "metadata": {
        "id": "AqA4Wi1047mF",
        "colab_type": "code",
        "colab": {}
      },
      "source": [
        "doc = nlp(\"The man, although he had good looks, kept sulking about his fat body\")"
      ],
      "execution_count": 0,
      "outputs": []
    },
    {
      "cell_type": "code",
      "metadata": {
        "id": "DmH448ab47on",
        "colab_type": "code",
        "outputId": "a33ec1a6-e16b-410b-caee-447fdc6d210b",
        "colab": {
          "base_uri": "https://localhost:8080/"
        }
      },
      "source": [
        "#retrieve chunks of nouns like below\n",
        "for token in doc.noun_chunks:\n",
        "  print(token.text)"
      ],
      "execution_count": 0,
      "outputs": [
        {
          "output_type": "stream",
          "text": [
            "The man\n",
            "he\n",
            "good looks\n",
            "his fat body\n"
          ],
          "name": "stdout"
        }
      ]
    },
    {
      "cell_type": "code",
      "metadata": {
        "id": "NS8f6EV447vy",
        "colab_type": "code",
        "outputId": "716a8ec8-6025-4ea2-8505-c35271cc575e",
        "colab": {
          "base_uri": "https://localhost:8080/"
        }
      },
      "source": [
        "#get to the root word of the chunks\n",
        "for token in doc.noun_chunks:  \n",
        "  print(token.root.text)"
      ],
      "execution_count": 0,
      "outputs": [
        {
          "output_type": "stream",
          "text": [
            "man\n",
            "he\n",
            "looks\n",
            "body\n"
          ],
          "name": "stdout"
        }
      ]
    },
    {
      "cell_type": "code",
      "metadata": {
        "id": "LnPDUxj047tq",
        "colab_type": "code",
        "outputId": "044a8c78-8397-43af-93b0-bbe17c3ed7a9",
        "colab": {
          "base_uri": "https://localhost:8080/"
        }
      },
      "source": [
        "#head of the nouns\n",
        "for token in doc.noun_chunks:\n",
        "  print(token.root.text, \"..\", token.root.head.text)"
      ],
      "execution_count": 0,
      "outputs": [
        {
          "output_type": "stream",
          "text": [
            "man .. kept\n",
            "he .. had\n",
            "looks .. had\n",
            "body .. about\n"
          ],
          "name": "stdout"
        }
      ]
    },
    {
      "cell_type": "markdown",
      "metadata": {
        "id": "bLuii2Ds7s1f",
        "colab_type": "text"
      },
      "source": [
        "# **Sentence Boundary detection**"
      ]
    },
    {
      "cell_type": "code",
      "metadata": {
        "id": "rbcta0NU47rK",
        "colab_type": "code",
        "colab": {}
      },
      "source": [
        "def mycustom_boundary(docx):\n",
        "  for token in docx[:-1]:\n",
        "    if (token.text == '---'):\n",
        "       docx[token.i+1].is_sent_start = True\n",
        "  return docx"
      ],
      "execution_count": 0,
      "outputs": []
    },
    {
      "cell_type": "code",
      "metadata": {
        "id": "6pElsRpu7ySV",
        "colab_type": "code",
        "colab": {}
      },
      "source": [
        "nlp.add_pipe(mycustom_boundary, before='parser')"
      ],
      "execution_count": 0,
      "outputs": []
    },
    {
      "cell_type": "code",
      "metadata": {
        "id": "wr17TmoY7yUx",
        "colab_type": "code",
        "colab": {}
      },
      "source": [
        "#figure out what is wrong\n",
        "my_sent = nlp(u\"Helloooo --- what are you --- doing\")\n",
        "for s in my_sent.sents:\n",
        "  print(s)"
      ],
      "execution_count": 0,
      "outputs": []
    },
    {
      "cell_type": "code",
      "metadata": {
        "id": "TyDQi7Ax7yY6",
        "colab_type": "code",
        "colab": {}
      },
      "source": [
        ""
      ],
      "execution_count": 0,
      "outputs": []
    }
  ]
}