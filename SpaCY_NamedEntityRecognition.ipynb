{
  "nbformat": 4,
  "nbformat_minor": 0,
  "metadata": {
    "colab": {
      "name": "SpaCY NER.ipynb",
      "provenance": [],
      "collapsed_sections": []
    },
    "kernelspec": {
      "name": "python3",
      "display_name": "Python 3"
    }
  },
  "cells": [
    {
      "cell_type": "code",
      "metadata": {
        "id": "IFYCQelF6iIO",
        "colab_type": "code",
        "colab": {}
      },
      "source": [
        "!pip install wikipedia"
      ],
      "execution_count": 0,
      "outputs": []
    },
    {
      "cell_type": "code",
      "metadata": {
        "id": "N8cmgYr3dYow",
        "colab_type": "code",
        "outputId": "eea8bb99-4870-4e7f-c8cd-99491236f24e",
        "colab": {
          "base_uri": "https://localhost:8080/",
          "height": 286
        }
      },
      "source": [
        "!pip install spacy"
      ],
      "execution_count": 0,
      "outputs": [
        {
          "output_type": "stream",
          "text": [
            "Requirement already satisfied: spacy in /usr/local/lib/python3.6/dist-packages (2.1.9)\n",
            "Requirement already satisfied: preshed<2.1.0,>=2.0.1 in /usr/local/lib/python3.6/dist-packages (from spacy) (2.0.1)\n",
            "Requirement already satisfied: cymem<2.1.0,>=2.0.2 in /usr/local/lib/python3.6/dist-packages (from spacy) (2.0.3)\n",
            "Requirement already satisfied: srsly<1.1.0,>=0.0.6 in /usr/local/lib/python3.6/dist-packages (from spacy) (1.0.1)\n",
            "Requirement already satisfied: thinc<7.1.0,>=7.0.8 in /usr/local/lib/python3.6/dist-packages (from spacy) (7.0.8)\n",
            "Requirement already satisfied: murmurhash<1.1.0,>=0.28.0 in /usr/local/lib/python3.6/dist-packages (from spacy) (1.0.2)\n",
            "Requirement already satisfied: requests<3.0.0,>=2.13.0 in /usr/local/lib/python3.6/dist-packages (from spacy) (2.21.0)\n",
            "Requirement already satisfied: numpy>=1.15.0 in /usr/local/lib/python3.6/dist-packages (from spacy) (1.17.5)\n",
            "Requirement already satisfied: wasabi<1.1.0,>=0.2.0 in /usr/local/lib/python3.6/dist-packages (from spacy) (0.6.0)\n",
            "Requirement already satisfied: plac<1.0.0,>=0.9.6 in /usr/local/lib/python3.6/dist-packages (from spacy) (0.9.6)\n",
            "Requirement already satisfied: blis<0.3.0,>=0.2.2 in /usr/local/lib/python3.6/dist-packages (from spacy) (0.2.4)\n",
            "Requirement already satisfied: tqdm<5.0.0,>=4.10.0 in /usr/local/lib/python3.6/dist-packages (from thinc<7.1.0,>=7.0.8->spacy) (4.28.1)\n",
            "Requirement already satisfied: urllib3<1.25,>=1.21.1 in /usr/local/lib/python3.6/dist-packages (from requests<3.0.0,>=2.13.0->spacy) (1.24.3)\n",
            "Requirement already satisfied: chardet<3.1.0,>=3.0.2 in /usr/local/lib/python3.6/dist-packages (from requests<3.0.0,>=2.13.0->spacy) (3.0.4)\n",
            "Requirement already satisfied: certifi>=2017.4.17 in /usr/local/lib/python3.6/dist-packages (from requests<3.0.0,>=2.13.0->spacy) (2019.11.28)\n",
            "Requirement already satisfied: idna<2.9,>=2.5 in /usr/local/lib/python3.6/dist-packages (from requests<3.0.0,>=2.13.0->spacy) (2.8)\n"
          ],
          "name": "stdout"
        }
      ]
    },
    {
      "cell_type": "code",
      "metadata": {
        "id": "vY3y9inS6Gj9",
        "colab_type": "code",
        "outputId": "790af728-747e-49df-e8c8-2fd93a8f6b33",
        "colab": {
          "base_uri": "https://localhost:8080/",
          "height": 87
        }
      },
      "source": [
        "import spacy\n",
        "#import wikipedia\n",
        "from spacy import displacy\n",
        "!python -m spacy download en_core_web_lg"
      ],
      "execution_count": 0,
      "outputs": [
        {
          "output_type": "stream",
          "text": [
            "Requirement already satisfied: en_core_web_lg==2.1.0 from https://github.com/explosion/spacy-models/releases/download/en_core_web_lg-2.1.0/en_core_web_lg-2.1.0.tar.gz#egg=en_core_web_lg==2.1.0 in /usr/local/lib/python3.6/dist-packages (2.1.0)\n",
            "\u001b[38;5;2m✔ Download and installation successful\u001b[0m\n",
            "You can now load the model via spacy.load('en_core_web_lg')\n"
          ],
          "name": "stdout"
        }
      ]
    },
    {
      "cell_type": "code",
      "metadata": {
        "id": "mBOoK4156fCg",
        "colab_type": "code",
        "colab": {}
      },
      "source": [
        "nlp = spacy.load(\"en_core_web_lg\")"
      ],
      "execution_count": 0,
      "outputs": []
    },
    {
      "cell_type": "code",
      "metadata": {
        "id": "OA3CS6E26d2b",
        "colab_type": "code",
        "colab": {}
      },
      "source": [
        "page = wikipedia.page(\"Vinodhini\")\n",
        "print(page.url)\n",
        "print(page.title)\n",
        "content = page.content\n",
        "wikitext = nlp(page.content)\n",
        "print(wikitext)"
      ],
      "execution_count": 0,
      "outputs": []
    },
    {
      "cell_type": "code",
      "metadata": {
        "id": "uEWHym2B8Tyh",
        "colab_type": "code",
        "colab": {}
      },
      "source": [
        "for word in wikitext.ents:\n",
        "  #print(word.text, word.label)\n",
        "  print(word.text, word.label_)"
      ],
      "execution_count": 0,
      "outputs": []
    },
    {
      "cell_type": "code",
      "metadata": {
        "id": "ON4NVH2l9RTL",
        "colab_type": "code",
        "colab": {}
      },
      "source": [
        "spacy.explain('NORP')"
      ],
      "execution_count": 0,
      "outputs": []
    },
    {
      "cell_type": "code",
      "metadata": {
        "id": "0qHM16-yD59y",
        "colab_type": "code",
        "colab": {}
      },
      "source": [
        "#displacy.serve() for python IDEs. render() is for Jupyter\n",
        "displacy.render(wikitext, style = \"ent\", jupyter = True)"
      ],
      "execution_count": 0,
      "outputs": []
    },
    {
      "cell_type": "code",
      "metadata": {
        "id": "_Rf3nF5wvk-R",
        "colab_type": "code",
        "colab": {}
      },
      "source": [
        "text = nlp(\"To: Fallon, Jim .Cc: Dimichele, Rich .Subject: Wrong Rice...... . .Jim- . .The guy in the news article this morning was Kenneth J. Rice not Kenneth D. Rice of Enron fame. \")"
      ],
      "execution_count": 0,
      "outputs": []
    },
    {
      "cell_type": "code",
      "metadata": {
        "id": "DpP5yRi4vvrs",
        "colab_type": "code",
        "colab": {}
      },
      "source": [
        "for word in text.ents:\n",
        "  print(word, word.label_)"
      ],
      "execution_count": 0,
      "outputs": []
    },
    {
      "cell_type": "code",
      "metadata": {
        "id": "OuQ9laVm2GqK",
        "colab_type": "code",
        "colab": {}
      },
      "source": [
        "Data = nlp(\"To:\\tFallon, Jim\\r\\nCc:\\tDimichele, Rich\\r\\nSubject:\\tWrong Rice......\\r\\n\\r\\nJim-\\r\\n\\r\\nThe guy in the news article this morning was Kenneth J. Rice not Kenneth D. Rice of Enron fame.\")"
      ],
      "execution_count": 0,
      "outputs": []
    },
    {
      "cell_type": "code",
      "metadata": {
        "id": "jQ-PRwAs2Juh",
        "colab_type": "code",
        "colab": {}
      },
      "source": [
        "for word in Data.ents:\n",
        "  print(word, word.label_)"
      ],
      "execution_count": 0,
      "outputs": []
    },
    {
      "cell_type": "code",
      "metadata": {
        "id": "m3xr2njnfnz3",
        "colab_type": "code",
        "colab": {}
      },
      "source": [
        "from gensim.parsing.preprocessing import strip_multiple_whitespaces"
      ],
      "execution_count": 0,
      "outputs": []
    },
    {
      "cell_type": "code",
      "metadata": {
        "id": "tWa9I_0hfohx",
        "colab_type": "code",
        "colab": {}
      },
      "source": [
        "Text = \"Lunch w/ Mark Taylor\""
      ],
      "execution_count": 0,
      "outputs": []
    },
    {
      "cell_type": "code",
      "metadata": {
        "id": "E48KU4WNgn8d",
        "colab_type": "code",
        "colab": {}
      },
      "source": [
        "nlp2 = spacy.load(\"en\", disable=['parser', 'tagger'])"
      ],
      "execution_count": 0,
      "outputs": []
    },
    {
      "cell_type": "code",
      "metadata": {
        "id": "rkz60b2PfthF",
        "colab_type": "code",
        "outputId": "0d1c7b5e-3b73-4b37-adee-e427dc70f380",
        "colab": {
          "base_uri": "https://localhost:8080/",
          "height": 33
        }
      },
      "source": [
        "text_spacy = nlp2(Text)\n",
        "text_spacy"
      ],
      "execution_count": 0,
      "outputs": [
        {
          "output_type": "execute_result",
          "data": {
            "text/plain": [
              "Lunch w/ Mark Taylor"
            ]
          },
          "metadata": {
            "tags": []
          },
          "execution_count": 18
        }
      ]
    },
    {
      "cell_type": "code",
      "metadata": {
        "id": "Cy741plpfyr6",
        "colab_type": "code",
        "colab": {}
      },
      "source": [
        "for word in text_spacy.ents:\n",
        "  print(word, word.label_)\n"
      ],
      "execution_count": 0,
      "outputs": []
    },
    {
      "cell_type": "code",
      "metadata": {
        "id": "QcRKMmNihJxT",
        "colab_type": "code",
        "colab": {}
      },
      "source": [
        "Text2 = strip_multiple_whitespaces(Text)\n",
        "text2_spacy = nlp2(Text2)"
      ],
      "execution_count": 0,
      "outputs": []
    },
    {
      "cell_type": "code",
      "metadata": {
        "id": "3ZRO7XFfhSOt",
        "colab_type": "code",
        "colab": {}
      },
      "source": [
        "for word in text2_spacy.ents:\n",
        "  print(word, word.label_)"
      ],
      "execution_count": 0,
      "outputs": []
    },
    {
      "cell_type": "code",
      "metadata": {
        "id": "H_QtpHIUvir9",
        "colab_type": "code",
        "colab": {}
      },
      "source": [
        "text = \"From: bounce-ejournal-255481@lists.michbar.org on behalf of State Bar of Michigan e-Journal\\r\\nSent: Sunday, November 25, 2001 04:50 PM\\r\\nTo: E-Journal\\r\\nSubject: State Bar of Michigan e-Journal - 11/26/01\\r\\nImportance: Low\\r\\nAttachments: ejintro.html; footer.txt\\r\\n\\r\\nIf you cannot read today's e-Journal, please visit this link:  <http://www.michbar.org/e-journal/112601.html> Or to receive a plain text version, please send an e-mail to lyris@lists.michbar.org  In the body, type:  unsubscribe ejournal and on the next line type:  subscribe ejournal-text \\r\\n \\r\\n\\r\\n\\r\\n\\r\\n\\r\\n\""
      ],
      "execution_count": 0,
      "outputs": []
    },
    {
      "cell_type": "code",
      "metadata": {
        "id": "yvUNK9V98892",
        "colab_type": "code",
        "outputId": "a9acf83b-3ebf-4bb2-d6ad-d47138d0168f",
        "colab": {
          "base_uri": "https://localhost:8080/",
          "height": 470
        }
      },
      "source": [
        "text = \"From: Runnels  David\\r\\nSent: Thursday, December 06, 2001 07:53 PM\\r\\nTo: Mark E. Haedicke; Richard B. Sanders\\r\\nSubject: Fw: Enron Former Employee Sites\\r\\nImportance: Low\\r\\n\\r\\nFor your information\\r\\n--------------------------\\r\\nSent from my BlackBerry Wireless Handheld (www.BlackBerry.net)\\r\\n\\r\\n\\r\\n-----Original Message-----\\r\\nFrom: Courtney, John P. <johncourtney@akllp.com>\\r\\nTo: Runnels, David <davidrunnels@akllp.com>; Spiers, Jeffrey\\r\\n<jeffreyspiers@akllp.com>\\r\\nSent: Thu Dec 06 11:35:30 2001\\r\\nSubject: Enron Former Employee Sites\\r\\n\\r\\nI noticed that some of the former employees have put up web sites\\r\\n(www.enronx.org).  While none of them seem too nasty at this point, I\\r\\nwanted you to know that we have experience in dealing with disgruntled\\r\\nemployees who put up disparaging and infringing sites. JPC\\r\\n\\r\\n\\r\\n\\r\\n\\r\\n\"\n",
        "print(text)"
      ],
      "execution_count": 0,
      "outputs": [
        {
          "output_type": "stream",
          "text": [
            "From: Runnels  David\r\n",
            "Sent: Thursday, December 06, 2001 07:53 PM\r\n",
            "To: Mark E. Haedicke; Richard B. Sanders\r\n",
            "Subject: Fw: Enron Former Employee Sites\r\n",
            "Importance: Low\r\n",
            "\r\n",
            "For your information\r\n",
            "--------------------------\r\n",
            "Sent from my BlackBerry Wireless Handheld (www.BlackBerry.net)\r\n",
            "\r\n",
            "\r\n",
            "-----Original Message-----\r\n",
            "From: Courtney, John P. <johncourtney@akllp.com>\r\n",
            "To: Runnels, David <davidrunnels@akllp.com>; Spiers, Jeffrey\r\n",
            "<jeffreyspiers@akllp.com>\r\n",
            "Sent: Thu Dec 06 11:35:30 2001\r\n",
            "Subject: Enron Former Employee Sites\r\n",
            "\r\n",
            "I noticed that some of the former employees have put up web sites\r\n",
            "(www.enronx.org).  While none of them seem too nasty at this point, I\r\n",
            "wanted you to know that we have experience in dealing with disgruntled\r\n",
            "employees who put up disparaging and infringing sites. JPC\r\n",
            "\r\n",
            "\r\n",
            "\r\n",
            "\r\n",
            "\n"
          ],
          "name": "stdout"
        }
      ]
    },
    {
      "cell_type": "code",
      "metadata": {
        "id": "X5hs-a-Q5hlC",
        "colab_type": "code",
        "colab": {}
      },
      "source": [
        "import re\n",
        "\n",
        "def preprocess(data):\n",
        "    regex_removeSpaces = re.compile(r\"\\r\\n+\")\n",
        "    data1 = regex_removeSpaces.sub(\" . \", data)\n",
        "    print(data1)\n",
        "    return data1"
      ],
      "execution_count": 0,
      "outputs": []
    },
    {
      "cell_type": "code",
      "metadata": {
        "id": "0lIA1KqPvqOi",
        "colab_type": "code",
        "outputId": "626d79be-73af-4987-883f-62cb99694127",
        "colab": {
          "base_uri": "https://localhost:8080/",
          "height": 507
        }
      },
      "source": [
        "print(text)\n",
        "new_text = preprocess(text)\n",
        "doc = nlp(text)"
      ],
      "execution_count": 0,
      "outputs": [
        {
          "output_type": "stream",
          "text": [
            "From: Runnels  David\r\n",
            "Sent: Thursday, December 06, 2001 07:53 PM\r\n",
            "To: Mark E. Haedicke; Richard B. Sanders\r\n",
            "Subject: Fw: Enron Former Employee Sites\r\n",
            "Importance: Low\r\n",
            "\r\n",
            "For your information\r\n",
            "--------------------------\r\n",
            "Sent from my BlackBerry Wireless Handheld (www.BlackBerry.net)\r\n",
            "\r\n",
            "\r\n",
            "-----Original Message-----\r\n",
            "From: Courtney, John P. <johncourtney@akllp.com>\r\n",
            "To: Runnels, David <davidrunnels@akllp.com>; Spiers, Jeffrey\r\n",
            "<jeffreyspiers@akllp.com>\r\n",
            "Sent: Thu Dec 06 11:35:30 2001\r\n",
            "Subject: Enron Former Employee Sites\r\n",
            "\r\n",
            "I noticed that some of the former employees have put up web sites\r\n",
            "(www.enronx.org).  While none of them seem too nasty at this point, I\r\n",
            "wanted you to know that we have experience in dealing with disgruntled\r\n",
            "employees who put up disparaging and infringing sites. JPC\r\n",
            "\r\n",
            "\r\n",
            "\r\n",
            "\r\n",
            "\n",
            "From: Runnels  David . Sent: Thursday, December 06, 2001 07:53 PM . To: Mark E. Haedicke; Richard B. Sanders . Subject: Fw: Enron Former Employee Sites . Importance: Low .  . For your information . -------------------------- . Sent from my BlackBerry Wireless Handheld (www.BlackBerry.net) .  .  . -----Original Message----- . From: Courtney, John P. <johncourtney@akllp.com> . To: Runnels, David <davidrunnels@akllp.com>; Spiers, Jeffrey . <jeffreyspiers@akllp.com> . Sent: Thu Dec 06 11:35:30 2001 . Subject: Enron Former Employee Sites .  . I noticed that some of the former employees have put up web sites . (www.enronx.org).  While none of them seem too nasty at this point, I . wanted you to know that we have experience in dealing with disgruntled . employees who put up disparaging and infringing sites. JPC .  .  .  .  . \n"
          ],
          "name": "stdout"
        }
      ]
    },
    {
      "cell_type": "code",
      "metadata": {
        "id": "n0p0zFbbvsLc",
        "colab_type": "code",
        "outputId": "c1fe8753-11e3-449e-907a-1c0c49709777",
        "colab": {
          "base_uri": "https://localhost:8080/",
          "height": 1000
        }
      },
      "source": [
        "for d in doc:\n",
        "  print(d.text)"
      ],
      "execution_count": 0,
      "outputs": [
        {
          "output_type": "stream",
          "text": [
            "From\n",
            ":\n",
            "Runnels\n",
            " \n",
            "David\n",
            "\r\n",
            "\n",
            "Sent\n",
            ":\n",
            "Thursday\n",
            ",\n",
            "December\n",
            "06\n",
            ",\n",
            "2001\n",
            "07:53\n",
            "PM\n",
            "\r\n",
            "\n",
            "To\n",
            ":\n",
            "Mark\n",
            "E.\n",
            "Haedicke\n",
            ";\n",
            "Richard\n",
            "B.\n",
            "Sanders\n",
            "\r\n",
            "\n",
            "Subject\n",
            ":\n",
            "Fw\n",
            ":\n",
            "Enron\n",
            "Former\n",
            "Employee\n",
            "Sites\n",
            "\r\n",
            "\n",
            "Importance\n",
            ":\n",
            "Low\n",
            "\r\n",
            "\r\n",
            "\n",
            "For\n",
            "your\n",
            "information\n",
            "\r\n",
            "\n",
            "--------------------------\n",
            "\r\n",
            "\n",
            "Sent\n",
            "from\n",
            "my\n",
            "BlackBerry\n",
            "Wireless\n",
            "Handheld\n",
            "(\n",
            "www\n",
            ".\n",
            "BlackBerry.net\n",
            ")\n",
            "\r\n",
            "\r\n",
            "\r\n",
            "\n",
            "-----Original\n",
            "Message-----\n",
            "\r\n",
            "\n",
            "From\n",
            ":\n",
            "Courtney\n",
            ",\n",
            "John\n",
            "P.\n",
            "<\n",
            "johncourtney@akllp.com\n",
            ">\n",
            "\r\n",
            "\n",
            "To\n",
            ":\n",
            "Runnels\n",
            ",\n",
            "David\n",
            "<\n",
            "davidrunnels@akllp.com\n",
            ">\n",
            ";\n",
            "Spiers\n",
            ",\n",
            "Jeffrey\n",
            "\r\n",
            "\n",
            "<\n",
            "jeffreyspiers@akllp.com\n",
            ">\n",
            "\r\n",
            "\n",
            "Sent\n",
            ":\n",
            "Thu\n",
            "Dec\n",
            "06\n",
            "11:35:30\n",
            "2001\n",
            "\r\n",
            "\n",
            "Subject\n",
            ":\n",
            "Enron\n",
            "Former\n",
            "Employee\n",
            "Sites\n",
            "\r\n",
            "\r\n",
            "\n",
            "I\n",
            "noticed\n",
            "that\n",
            "some\n",
            "of\n",
            "the\n",
            "former\n",
            "employees\n",
            "have\n",
            "put\n",
            "up\n",
            "web\n",
            "sites\n",
            "\r\n",
            "\n",
            "(\n",
            "www.enronx.org\n",
            ")\n",
            ".\n",
            " \n",
            "While\n",
            "none\n",
            "of\n",
            "them\n",
            "seem\n",
            "too\n",
            "nasty\n",
            "at\n",
            "this\n",
            "point\n",
            ",\n",
            "I\n",
            "\r\n",
            "\n",
            "wanted\n",
            "you\n",
            "to\n",
            "know\n",
            "that\n",
            "we\n",
            "have\n",
            "experience\n",
            "in\n",
            "dealing\n",
            "with\n",
            "disgruntled\n",
            "\r\n",
            "\n",
            "employees\n",
            "who\n",
            "put\n",
            "up\n",
            "disparaging\n",
            "and\n",
            "infringing\n",
            "sites\n",
            ".\n",
            "JPC\n",
            "\r\n",
            "\r\n",
            "\r\n",
            "\r\n",
            "\r\n",
            "\n"
          ],
          "name": "stdout"
        }
      ]
    },
    {
      "cell_type": "code",
      "metadata": {
        "id": "YL_u6bf5A8sW",
        "colab_type": "code",
        "outputId": "21820672-90b2-40db-86b0-23fd0cb7096d",
        "colab": {
          "base_uri": "https://localhost:8080/",
          "height": 437
        }
      },
      "source": [
        "for d in doc.ents:\n",
        "  print(d.text, d.label_)"
      ],
      "execution_count": 0,
      "outputs": [
        {
          "output_type": "stream",
          "text": [
            "Runnels PERSON\n",
            "David PERSON\n",
            "Thursday, December 06, 2001 07:53 DATE\n",
            "PM TIME\n",
            "Mark E. Haedicke PERSON\n",
            "Richard B. Sanders PERSON\n",
            "BlackBerry Wireless Handheld PRODUCT\n",
            "BlackBerry.net)\r\n",
            "\r\n",
            "\r\n",
            " PRODUCT\n",
            "Courtney PERSON\n",
            "John P. PERSON\n",
            "Runnels PERSON\n",
            "David PERSON\n",
            "Spiers PERSON\n",
            "Jeffrey PERSON\n",
            "Thu Dec 06 DATE\n",
            "2001 DATE\n",
            "JPC\r\n",
            "\r\n",
            "\r\n",
            "\r\n",
            "\r\n",
            " ORG\n"
          ],
          "name": "stdout"
        }
      ]
    },
    {
      "cell_type": "code",
      "metadata": {
        "id": "N6694pt46lNt",
        "colab_type": "code",
        "outputId": "be605953-87f6-4fa5-d612-b7f7b83c2890",
        "colab": {
          "base_uri": "https://localhost:8080/",
          "height": 168
        }
      },
      "source": [
        "!python -m spacy info"
      ],
      "execution_count": 0,
      "outputs": [
        {
          "output_type": "stream",
          "text": [
            "\u001b[1m\n",
            "============================== Info about spaCy ==============================\u001b[0m\n",
            "\n",
            "spaCy version    2.1.9                         \n",
            "Location         /usr/local/lib/python3.6/dist-packages/spacy\n",
            "Platform         Linux-4.14.137+-x86_64-with-Ubuntu-18.04-bionic\n",
            "Python version   3.6.9                         \n",
            "Models           en                            \n",
            "\n"
          ],
          "name": "stdout"
        }
      ]
    },
    {
      "cell_type": "markdown",
      "metadata": {
        "id": "-zMjwWTJ2wZc",
        "colab_type": "text"
      },
      "source": [
        ""
      ]
    }
  ]
}